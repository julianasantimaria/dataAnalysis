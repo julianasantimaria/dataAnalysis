{
 "cells": [
  {
   "cell_type": "code",
   "execution_count": null,
   "metadata": {},
   "outputs": [],
   "source": [
    "!pip install -q -U watermark"
   ]
  },
  {
   "cell_type": "code",
   "execution_count": null,
   "metadata": {},
   "outputs": [],
   "source": [
    "# Imports\n",
    "import numpy as np\n",
    "import pandas as pd\n",
    "import matplotlib.pyplot as plt\n",
    "import scipy.stats as st\n",
    "import warnings\n",
    "warnings.filterwarnings('ignore')"
   ]
  },
  {
   "cell_type": "code",
   "execution_count": null,
   "metadata": {
    "scrolled": true
   },
   "outputs": [],
   "source": [
    "%reload_ext watermark\n",
    "%watermark -a \"Data Science Academy\""
   ]
  },
  {
   "cell_type": "code",
   "execution_count": null,
   "metadata": {},
   "outputs": [],
   "source": [
    "# Carrega o dataset\n",
    "df_dsa = pd.read_csv(\"dataset.csv\")"
   ]
  },
  {
   "cell_type": "code",
   "execution_count": null,
   "metadata": {},
   "outputs": [],
   "source": [
    "# Shape\n",
    "df_dsa.shape"
   ]
  },
  {
   "cell_type": "code",
   "execution_count": null,
   "metadata": {},
   "outputs": [],
   "source": [
    "# Visualiza as 5 primeiras linhas\n",
    "df_dsa.head()"
   ]
  },
  {
   "cell_type": "code",
   "execution_count": null,
   "metadata": {},
   "outputs": [],
   "source": [
    "# Info\n",
    "df_dsa.info()"
   ]
  },
  {
   "cell_type": "code",
   "execution_count": null,
   "metadata": {},
   "outputs": [],
   "source": [
    "# Nomes das colunas\n",
    "df_dsa.columns"
   ]
  },
  {
   "cell_type": "code",
   "execution_count": null,
   "metadata": {},
   "outputs": [],
   "source": [
    "# Valores únicos para id do mouse\n",
    "df_dsa[\"ID Mouse\"].nunique()"
   ]
  },
  {
   "cell_type": "code",
   "execution_count": null,
   "metadata": {},
   "outputs": [],
   "source": [
    "# Verifica valores ausentes\n",
    "df_dsa.isna().any()"
   ]
  },
  {
   "cell_type": "code",
   "execution_count": null,
   "metadata": {},
   "outputs": [],
   "source": [
    "# Extrai duplicatas na combinação \"ID Mouse\" e \"Timepoint\" (se houver)\n",
    "duplicate_ID = df_dsa.loc[df_dsa.duplicated(subset = [\"ID Mouse\", \"Timepoint\"]), \"ID Mouse\"].unique()"
   ]
  },
  {
   "cell_type": "code",
   "execution_count": null,
   "metadata": {},
   "outputs": [],
   "source": [
    "# Se houver duplicata, removemos\n",
    "df_dsa_final = df_dsa[df_dsa[\"ID Mouse\"].isin(duplicate_ID) == False]"
   ]
  },
  {
   "cell_type": "code",
   "execution_count": null,
   "metadata": {},
   "outputs": [],
   "source": [
    "# Shape\n",
    "df_dsa.shape"
   ]
  },
  {
   "cell_type": "code",
   "execution_count": null,
   "metadata": {},
   "outputs": [],
   "source": [
    "# Visualiza as 5 primeiras linhas\n",
    "df_dsa_final.head()"
   ]
  },
  {
   "cell_type": "code",
   "execution_count": null,
   "metadata": {},
   "outputs": [],
   "source": [
    "# Nomes das colunas\n",
    "df_dsa_final.columns"
   ]
  },
  {
   "cell_type": "code",
   "execution_count": null,
   "metadata": {},
   "outputs": [],
   "source": [
    "# Agrupamento pelo Medicamento e filtro pela variável \"Tumor Volume (mm3)\"\n",
    "df_dsa_final_agrupado = df_dsa_final.groupby(\"Medicamento\")[\"Tumor Volume (mm3)\"]"
   ]
  },
  {
   "cell_type": "code",
   "execution_count": null,
   "metadata": {},
   "outputs": [],
   "source": [
    "# Agora calculamos as estatísticas da variável \"Tumor Volume (mm3)\"\n",
    "media = df_dsa_final_agrupado.mean()\n",
    "mediana = df_dsa_final_agrupado.median()\n",
    "variancia = df_dsa_final_agrupado.var()\n",
    "desvio_padrao = df_dsa_final_agrupado.std()\n",
    "sem = df_dsa_final_agrupado.sem()"
   ]
  },
  {
   "cell_type": "code",
   "execution_count": null,
   "metadata": {},
   "outputs": [],
   "source": [
    "# Cria o dataframe de sumário\n",
    "df_sumario_estatistico = pd.DataFrame({'Média': media, \n",
    "                                       'Mediana': mediana, \n",
    "                                       'Variância': variancia, \n",
    "                                       'Desvio Padrão': desvio_padrao,\n",
    "                                       'SEM': sem})"
   ]
  },
  {
   "cell_type": "code",
   "execution_count": null,
   "metadata": {},
   "outputs": [],
   "source": [
    "df_sumario_estatistico"
   ]
  },
  {
   "cell_type": "code",
   "execution_count": null,
   "metadata": {},
   "outputs": [],
   "source": [
    "# Esta seria uma alternativa para agrupamento e cálculo das estatísticas\n",
    "sumario_agregado = df_dsa_final_agrupado.agg([\"mean\", \"median\", \"var\", \"std\", \"sem\"])"
   ]
  },
  {
   "cell_type": "markdown",
   "metadata": {},
   "source": [
    "As funções usadas aqui são:\n",
    "\n",
    "- mean: Calcula a média aritmética dos dados.\n",
    "- median: Determina o valor mediano dos dados.\n",
    "- var: Calcula a variância dos dados, uma medida de dispersão que mostra quão distantes os valores estão da média.\n",
    "- std: Determina o desvio padrão, que é a raiz quadrada da variância e fornece uma medida de quão espalhados estão os valores em relação à média.\n",
    "- sem: Calcula o erro padrão da média (standard error of the mean), que indica a precisão da média como uma estimativa da média populacional."
   ]
  },
  {
   "cell_type": "code",
   "execution_count": null,
   "metadata": {},
   "outputs": [],
   "source": [
    "sumario_agregado"
   ]
  },
  {
   "cell_type": "markdown",
   "metadata": {},
   "source": [
    "## Análise Exploratória"
   ]
  },
  {
   "cell_type": "code",
   "execution_count": null,
   "metadata": {},
   "outputs": [],
   "source": [
    "# Nomes das colunas\n",
    "df_dsa_final.columns"
   ]
  },
  {
   "cell_type": "code",
   "execution_count": null,
   "metadata": {},
   "outputs": [],
   "source": [
    "# Registros por medicamento\n",
    "df_dsa_final[\"Medicamento\"].value_counts()"
   ]
  },
  {
   "cell_type": "code",
   "execution_count": null,
   "metadata": {},
   "outputs": [],
   "source": [
    "# Número de Testes Por Medicamento\n",
    "\n",
    "# Plot\n",
    "plt.figure(figsize = (12, 5)) \n",
    "x_axis = df_dsa_final[\"Medicamento\"].value_counts().index.values\n",
    "y_axis = df_dsa_final[\"Medicamento\"].value_counts().values\n",
    "plt.bar(x_axis, y_axis, color = \"green\")\n",
    "plt.title(\"Número de Testes Por Medicamento\")\n",
    "plt.xlabel(\"Medicamento\")\n",
    "plt.ylabel(\"Número de Testes\")\n",
    "plt.grid(alpha = 0.4)\n",
    "plt.xticks(rotation = 45)\n",
    "plt.show()"
   ]
  },
  {
   "cell_type": "code",
   "execution_count": null,
   "metadata": {},
   "outputs": [],
   "source": [
    "# Média do Volume do Tumor por Faixa Etária\n",
    "\n",
    "# Definindo faixas etárias\n",
    "bins = [0, 6, 12, 18, 24, 30]  \n",
    "labels = ['0-6 meses', '6-12 meses', '12-18 meses', '18-24 meses', '24 meses ou mais']\n",
    "\n",
    "# Divide as faixas\n",
    "df_dsa_final['faixa_etaria'] = pd.cut(df_dsa_final['Idade_Meses'], \n",
    "                                      bins = bins, \n",
    "                                      labels = labels, \n",
    "                                      right = False)\n",
    "\n",
    "# Agrupando por 'faixa_etaria' e calculando a média do 'Tumor Volume (mm3)'\n",
    "media_tumor = df_dsa_final.groupby('faixa_etaria')['Tumor Volume (mm3)'].mean().reset_index()\n",
    "\n",
    "# Criando o gráfico\n",
    "import seaborn as sns\n",
    "plt.figure(figsize = (12, 5)) \n",
    "sns.barplot(x = 'faixa_etaria', y = 'Tumor Volume (mm3)', data = media_tumor)\n",
    "plt.title('Média do Volume do Tumor por Faixa Etária')\n",
    "plt.xlabel('\\nFaixa Etária')\n",
    "plt.ylabel('Média do Volume do Tumor (mm3)')\n",
    "plt.show()"
   ]
  },
  {
   "cell_type": "markdown",
   "metadata": {},
   "source": [
    "## Quartis, Outliers e Boxplots\n",
    "\n",
    "Quartis são valores que dividem um conjunto de dados em quatro partes iguais. O primeiro quartil (Q1) é o valor que separa os 25% menores dados dos demais, o segundo quartil (Q2) ou mediana divide os dados ao meio, e o terceiro quartil (Q3) separa os 75% menores dados dos 25% maiores.\n",
    "<!-- Projeto Desenvolvido na Data Science Academy - www.datascienceacademy.com.br -->\n",
    "Outliers ou valores atípicos são observações que se distanciam significativamente dos outros dados do conjunto. Eles podem ser resultado de variabilidade nos dados ou de erros de medição. São importantes porque podem distorcer estatísticas e proporcionar insights sobre anomalias.\n",
    "\n",
    "Um boxplot é um método gráfico para representar a distribuição de dados numéricos por meio de quartis. Ele mostra o mínimo, o primeiro quartil (Q1), a mediana (Q2), o terceiro quartil (Q3) e o máximo, com linhas (chamadas de \"bigodes\" ou whiskers) que se estendem para mostrar a variabilidade fora dos quartis. Outliers são frequentemente indicados como pontos individuais que ficam fora dos \"bigodes\"."
   ]
  },
  {
   "cell_type": "code",
   "execution_count": null,
   "metadata": {},
   "outputs": [],
   "source": [
    "# Nomes das colunas\n",
    "df_dsa_final.columns"
   ]
  },
  {
   "cell_type": "code",
   "execution_count": null,
   "metadata": {},
   "outputs": [],
   "source": [
    "# Filtra os dados por medicamento\n",
    "Capomulin_df = df_dsa_final.loc[df_dsa_final[\"Medicamento\"] == \"Capomulin\",:]\n",
    "Ramicane_df = df_dsa_final.loc[df_dsa_final[\"Medicamento\"] == \"Ramicane\", :]\n",
    "Infubinol_df = df_dsa_final.loc[df_dsa_final[\"Medicamento\"] == \"Infubinol\", :]\n",
    "Ceftamin_df = df_dsa_final.loc[df_dsa_final[\"Medicamento\"] == \"Ceftamin\", :]"
   ]
  },
  {
   "cell_type": "code",
   "execution_count": null,
   "metadata": {},
   "outputs": [],
   "source": [
    "Capomulin_df.head()"
   ]
  },
  {
   "cell_type": "code",
   "execution_count": null,
   "metadata": {},
   "outputs": [],
   "source": [
    "# Agrupa pelo 'ID Mouse' e obtém o maior valor (o último tratamento de cada cobaia), filtrando o 'Timepoint'\n",
    "Capomulin_last = Capomulin_df.groupby('ID Mouse').max()['Timepoint']"
   ]
  },
  {
   "cell_type": "code",
   "execution_count": null,
   "metadata": {},
   "outputs": [],
   "source": [
    "Capomulin_last"
   ]
  },
  {
   "cell_type": "code",
   "execution_count": null,
   "metadata": {},
   "outputs": [],
   "source": [
    "# Converte em dataframe\n",
    "Capomulin_volume = pd.DataFrame(Capomulin_last)"
   ]
  },
  {
   "cell_type": "code",
   "execution_count": null,
   "metadata": {},
   "outputs": [],
   "source": [
    "# Merge com o dataframe original (queremos somente o último timepoint)\n",
    "Capomulin_merge = pd.merge(Capomulin_volume, Capomulin_df, on = (\"ID Mouse\", \"Timepoint\"), how = \"left\")"
   ]
  },
  {
   "cell_type": "code",
   "execution_count": null,
   "metadata": {},
   "outputs": [],
   "source": [
    "Capomulin_merge.head()"
   ]
  },
  {
   "cell_type": "code",
   "execution_count": null,
   "metadata": {},
   "outputs": [],
   "source": [
    "# Extrai os tumores\n",
    "Capomulin_tumors = Capomulin_merge[\"Tumor Volume (mm3)\"]"
   ]
  },
  {
   "cell_type": "code",
   "execution_count": null,
   "metadata": {},
   "outputs": [],
   "source": [
    "# Extrai os quartis\n",
    "Cap_quartiles = Capomulin_tumors.quantile([0.25, 0.5, 0.75])"
   ]
  },
  {
   "cell_type": "code",
   "execution_count": null,
   "metadata": {},
   "outputs": [],
   "source": [
    "# Separa o primeiro e o terceiro quartil\n",
    "Cap_lowerq = Cap_quartiles[0.25]\n",
    "Cap_upperq = Cap_quartiles[0.75]"
   ]
  },
  {
   "cell_type": "code",
   "execution_count": null,
   "metadata": {},
   "outputs": [],
   "source": [
    "# Calcula o IQR (Intervalo Interquartil)\n",
    "Cap_iqr = Cap_upperq - Cap_lowerq"
   ]
  },
  {
   "cell_type": "code",
   "execution_count": null,
   "metadata": {},
   "outputs": [],
   "source": [
    "# Define limites inferior e superior\n",
    "Cap_lowerbound = Cap_lowerq - (Cap_iqr * 1.5)\n",
    "Cap_upperbound = Cap_upperq + (Cap_iqr * 1.5)"
   ]
  },
  {
   "cell_type": "code",
   "execution_count": null,
   "metadata": {},
   "outputs": [],
   "source": [
    "print(f\"Primeiro Quartil da Medida do Tumor com Capomulin: {Cap_lowerq}\")\n",
    "print(f\"Terceiro Quartil da Medida do Tumor com Capomulin: {Cap_upperq}\")\n",
    "print(f\"Intervalo Interquartil (IQR): {Cap_iqr}\")\n",
    "print(f\"Valores Abaixo de {Cap_lowerbound} podem ser outliers\")\n",
    "print(f\"Valores Acima de {Cap_upperbound} podem ser outliers\")"
   ]
  },
  {
   "cell_type": "markdown",
   "metadata": {},
   "source": [
    "> Vamos agora reproduzir isso para cada medicamento."
   ]
  },
  {
   "cell_type": "code",
   "execution_count": null,
   "metadata": {},
   "outputs": [],
   "source": [
    "# Extrai o último timepoint para cada cobaia\n",
    "last_timepoint = pd.DataFrame(df_dsa_final.groupby('ID Mouse')['Timepoint'].max().sort_values()) \\\n",
    "                    .reset_index().rename(columns = {'Timepoint': 'max_timepoint'})"
   ]
  },
  {
   "cell_type": "code",
   "execution_count": null,
   "metadata": {},
   "outputs": [],
   "source": [
    "last_timepoint.head()"
   ]
  },
  {
   "cell_type": "code",
   "execution_count": null,
   "metadata": {},
   "outputs": [],
   "source": [
    "# Adiciona o último timepoint como uma coluna no dataframe original\n",
    "merged_df = pd.merge(df_dsa_final, last_timepoint, on = \"ID Mouse\")"
   ]
  },
  {
   "cell_type": "code",
   "execution_count": null,
   "metadata": {},
   "outputs": [],
   "source": [
    "merged_df.shape"
   ]
  },
  {
   "cell_type": "code",
   "execution_count": null,
   "metadata": {},
   "outputs": [],
   "source": [
    "merged_df.head()"
   ]
  },
  {
   "cell_type": "code",
   "execution_count": null,
   "metadata": {},
   "outputs": [],
   "source": [
    "# Nomes das colunas\n",
    "df_dsa_final.columns"
   ]
  },
  {
   "cell_type": "code",
   "execution_count": null,
   "metadata": {},
   "outputs": [],
   "source": [
    "# Lista para o volume do tumor\n",
    "tumor_volume = []"
   ]
  },
  {
   "cell_type": "code",
   "execution_count": null,
   "metadata": {},
   "outputs": [],
   "source": [
    "# Lista de tratamentos\n",
    "lista_medicamentos = [\"Capomulin\", \"Ramicane\", \"Infubinol\", \"Placebo\"]"
   ]
  },
  {
   "cell_type": "markdown",
   "metadata": {},
   "source": [
    "<!-- Projeto Desenvolvido na Data Science Academy - www.datascienceacademy.com.br -->\n",
    "### Pergunta 1 - Há Outliers em Cada Tratamento?"
   ]
  },
  {
   "cell_type": "code",
   "execution_count": null,
   "metadata": {},
   "outputs": [],
   "source": [
    "print(f\"\\nRelatório Estatístico de Outliers\")\n",
    "\n",
    "# Loop através de cada medicamento na lista de tratamentos\n",
    "for medicamento in lista_medicamentos:\n",
    "\n",
    "    # Filtra o DataFrame para obter dados apenas do medicamento atual na iteração\n",
    "    dsa_dados = merged_df.loc[merged_df[\"Medicamento\"] == medicamento]\n",
    "    \n",
    "    # Localiza os dados do volume final do tumor no último ponto de tempo registrado para o medicamento\n",
    "    final_volume = dsa_dados.loc[dsa_dados[\"Timepoint\"] == dsa_dados[\"max_timepoint\"]]\n",
    "    \n",
    "    # Seleciona a coluna de volume do tumor dos dados filtrados\n",
    "    final_volumes = final_volume[\"Tumor Volume (mm3)\"]\n",
    "    \n",
    "    # Adiciona os volumes finais de tumor à lista de volumes de tumor\n",
    "    tumor_volume.append(final_volumes)\n",
    "        \n",
    "    # Calcula os quartis para os volumes finais do tumor\n",
    "    quartiles = final_volumes.quantile([0.25,.5,0.75])\n",
    "\n",
    "    # Atribui o primeiro quartil à variável lowerq\n",
    "    lowerq = quartiles[0.25]\n",
    "    \n",
    "    # Atribui o terceiro quartil à variável upperq\n",
    "    upperq = quartiles[0.75]\n",
    "    \n",
    "    # Calcula o intervalo interquartil (IQR)\n",
    "    iqr = upperq - lowerq\n",
    "    \n",
    "    # Calcula o limite inferior para detecção de outliers\n",
    "    lower_bound =  lowerq - (1.5 * iqr)\n",
    "    \n",
    "    # Calcula o limite superior para detecção de outliers\n",
    "    upper_bound = upperq +(1.5 * iqr)\n",
    "    \n",
    "    # Conta os outliers com base nos limites definidos\n",
    "    outliers = final_volumes[(final_volume[\"Tumor Volume (mm3)\"] <= lower_bound) | \\\n",
    "                             (final_volume[\"Tumor Volume (mm3)\"] >= upper_bound)].count()\n",
    "\n",
    "    # Imprime o resumo estatístico dos outliers para cada medicamento\n",
    "    print(f\"\\nIQR Para {medicamento}: {iqr}\")\n",
    "    print(f\"Limite Inferior Para {medicamento}: {lower_bound}\")\n",
    "    print(f\"Limite Superior Para {medicamento}: {upper_bound}\")\n",
    "    print(f\"Medicamento: {medicamento} -> Número de outliers: {outliers}\")"
   ]
  },
  {
   "cell_type": "code",
   "execution_count": null,
   "metadata": {},
   "outputs": [],
   "source": [
    "# Boxplot\n",
    "format = dict(marker = \"o\")\n",
    "plt.boxplot(tumor_volume, flierprops = format, showmeans = True)\n",
    "plt.title(\"Volume Final do Tumor Por Medicamento\")\n",
    "plt.ylabel(\"Tumor Volume (mm3)\")\n",
    "plt.xticks([1,2,3,4], [\"Capomulin\", \"Ramicane\", \"Infubinol\", \"Placebo\"])\n",
    "plt.show()"
   ]
  },
  {
   "cell_type": "code",
   "execution_count": null,
   "metadata": {},
   "outputs": [],
   "source": [
    "df_dsa_final.head()"
   ]
  },
  {
   "cell_type": "markdown",
   "metadata": {},
   "source": [
    "<!-- Projeto Desenvolvido na Data Science Academy - www.datascienceacademy.com.br -->\n",
    "### Pergunta 2 - Com o Uso de Medicamentos Há Efeito no Volume do Tumor ao Longo do Tempo?"
   ]
  },
  {
   "cell_type": "code",
   "execution_count": null,
   "metadata": {},
   "outputs": [],
   "source": [
    "# Extrai os dados de uma cobaia\n",
    "tratamento_mouse = df_dsa_final.loc[df_dsa_final[\"ID Mouse\"] == \"m000\"]"
   ]
  },
  {
   "cell_type": "code",
   "execution_count": null,
   "metadata": {},
   "outputs": [],
   "source": [
    "# Plot\n",
    "plt.plot(tratamento_mouse['Timepoint'], tratamento_mouse[\"Tumor Volume (mm3)\"], marker = \"o\")\n",
    "plt.xlabel(\"\\nTempo (dias)\")\n",
    "plt.ylabel(\"Tumor Volume (mm3)\")\n",
    "plt.title(\"Tratamento Para o Mouse m000\")\n",
    "plt.show()"
   ]
  },
  {
   "cell_type": "markdown",
   "metadata": {},
   "source": [
    "<!-- Projeto Desenvolvido na Data Science Academy - www.datascienceacademy.com.br -->\n",
    "### Pergunta 3 - Para Um dos Medicamentos Qual a Relação Entre Peso da Cobaia e Tamanho do Tumor?"
   ]
  },
  {
   "cell_type": "code",
   "execution_count": null,
   "metadata": {},
   "outputs": [],
   "source": [
    "# Filtra os dados\n",
    "capomulin_treatment = df_dsa_final.loc[df_dsa_final[\"Medicamento\"] == \"Capomulin\"]"
   ]
  },
  {
   "cell_type": "code",
   "execution_count": null,
   "metadata": {},
   "outputs": [],
   "source": [
    "capomulin_treatment.head()"
   ]
  },
  {
   "cell_type": "code",
   "execution_count": null,
   "metadata": {},
   "outputs": [],
   "source": [
    "capomulin_treatment.info()"
   ]
  },
  {
   "cell_type": "code",
   "execution_count": null,
   "metadata": {},
   "outputs": [],
   "source": [
    "# Ao calcular a média, especificamos apenas as colunas numéricas\n",
    "avg_tumor_volume = capomulin_treatment.groupby('ID Mouse')[['Idade_Meses', \n",
    "                                                            'Peso (g)', \n",
    "                                                            'Timepoint', \n",
    "                                                            'Tumor Volume (mm3)', \n",
    "                                                            'Sitios Metastáticos']].mean()"
   ]
  },
  {
   "cell_type": "code",
   "execution_count": null,
   "metadata": {},
   "outputs": [],
   "source": [
    "avg_tumor_volume.head()"
   ]
  },
  {
   "cell_type": "code",
   "execution_count": null,
   "metadata": {},
   "outputs": [],
   "source": [
    "# Scatter Plot\n",
    "x_values = avg_tumor_volume[\"Peso (g)\"]\n",
    "y_values = avg_tumor_volume[\"Tumor Volume (mm3)\"]\n",
    "plt.scatter(x_values, y_values)\n",
    "plt.title(\"Peso (g) do Mouse x Média Tumor Volume(mm3)\")\n",
    "plt.xlabel(\"\\nPeso(g)\")\n",
    "plt.ylabel(\"Média de Tumor Volume (mm3)\")\n",
    "plt.show()"
   ]
  },
  {
   "cell_type": "code",
   "execution_count": null,
   "metadata": {},
   "outputs": [],
   "source": [
    "# Calcula a correlação\n",
    "correlation_model = st.pearsonr(avg_tumor_volume[\"Peso (g)\"], avg_tumor_volume[\"Tumor Volume (mm3)\"])\n",
    "print(f\"A correlação entre Peso (g) e Tumor Volume (mm3) é de {round(correlation_model[0],2)}\")"
   ]
  },
  {
   "cell_type": "markdown",
   "metadata": {},
   "source": [
    "## Quantificando e Prevendo a Relação Através de Regressão Linear\n",
    "\n",
    "Regressão Linear é um método estatístico usado para modelar a relação entre uma variável dependente e uma ou mais variáveis independentes. O objetivo é encontrar uma linha reta que melhor se ajuste aos dados, minimizando a soma dos quadrados das diferenças entre os valores observados e os valores previstos pela linha de regressão. Em outras palavras, busca-se descrever como a variável de interesse responde à mudança das outras variáveis.\n",
    "<!-- Projeto Desenvolvido na Data Science Academy - www.datascienceacademy.com.br -->\n",
    "https://docs.scipy.org/doc/scipy/reference/generated/scipy.stats.linregress.html"
   ]
  },
  {
   "cell_type": "code",
   "execution_count": null,
   "metadata": {},
   "outputs": [],
   "source": [
    "# Cria o modelo de regressão\n",
    "modelo = st.linregress(avg_tumor_volume[\"Peso (g)\"], avg_tumor_volume[\"Tumor Volume (mm3)\"])"
   ]
  },
  {
   "cell_type": "code",
   "execution_count": null,
   "metadata": {},
   "outputs": [],
   "source": [
    "modelo.intercept"
   ]
  },
  {
   "cell_type": "code",
   "execution_count": null,
   "metadata": {},
   "outputs": [],
   "source": [
    "modelo.slope"
   ]
  },
  {
   "cell_type": "markdown",
   "metadata": {},
   "source": [
    "Fórmula da Regressão Linear Simples\n",
    "\n",
    "y = β0 + β1x\n",
    "\n",
    "- y é a variável dependente que estamos tentando prever ou explicar.\n",
    "- x é a variável independente usada para prever y.\n",
    "- 𝛽0 é o intercepto da reta, representando o valor esperado de 𝑦 quando x é igual a zero.\n",
    "- 𝛽1 é o coeficiente da variável independente (também chamado slope), indicando a mudança esperada em y para um aumento de uma unidade em x.\n",
    "<!-- Projeto Desenvolvido na Data Science Academy - www.datascienceacademy.com.br -->"
   ]
  },
  {
   "cell_type": "code",
   "execution_count": null,
   "metadata": {},
   "outputs": [],
   "source": [
    "# Cria a fórmula de regressão com os coeficientes encontrados\n",
    "modelo_dsa = modelo.intercept + modelo.slope * avg_tumor_volume[\"Peso (g)\"]"
   ]
  },
  {
   "cell_type": "code",
   "execution_count": null,
   "metadata": {},
   "outputs": [],
   "source": [
    "# Calcula a linha de regressão\n",
    "line_equation = f\"y={round(modelo.slope, 2)}x + {round(modelo.intercept, 2)}\""
   ]
  },
  {
   "cell_type": "code",
   "execution_count": null,
   "metadata": {},
   "outputs": [],
   "source": [
    "# Plot\n",
    "plt.scatter(avg_tumor_volume[\"Peso (g)\"], avg_tumor_volume[\"Tumor Volume (mm3)\"], color = \"r\")\n",
    "plt.plot(avg_tumor_volume[\"Peso (g)\"], modelo_dsa, color = \"blue\")\n",
    "plt.xlabel(\"\\nPeso (g)\")\n",
    "plt.ylabel(\"Tumor Volume (mm3)\")\n",
    "plt.title(\"Peso(g) Vs Tumor Volume(mm3) Para Capomulin\")\n",
    "plt.annotate(line_equation, (20,36))\n",
    "plt.show();"
   ]
  },
  {
   "cell_type": "markdown",
   "metadata": {},
   "source": [
    "Há uma relação negativa entre as variáveis. Isso significa que à medida que o volume do tumor diminui, aumenta o peso da cobaia (mouse). Ou seja, quanto menor o tumor, maior o potencial de ganho de peso da cobaia, possivelmente devido à melhora da saúde ou outras condições relacionadas."
   ]
  },
  {
   "cell_type": "markdown",
   "metadata": {},
   "source": [
    "Como será que o ChatGPT se comporta ao fazer uma análise como esta que fizemos neste projeto? \n",
    "\n",
    "É o que iremos descobrir no próximo capítulo. Até lá."
   ]
  },
  {
   "cell_type": "code",
   "execution_count": null,
   "metadata": {},
   "outputs": [],
   "source": [
    "%watermark -a \"Data Science Academy\""
   ]
  },
  {
   "cell_type": "code",
   "execution_count": null,
   "metadata": {},
   "outputs": [],
   "source": [
    "#%watermark -v -m"
   ]
  },
  {
   "cell_type": "code",
   "execution_count": null,
   "metadata": {},
   "outputs": [],
   "source": [
    "#%watermark --iversions"
   ]
  },
  {
   "cell_type": "markdown",
   "metadata": {},
   "source": [
    "# Fim"
   ]
  }
 ],
 "metadata": {
  "kernelspec": {
   "display_name": "Python 3 (ipykernel)",
   "language": "python",
   "name": "python3"
  },
  "language_info": {
   "codemirror_mode": {
    "name": "ipython",
    "version": 3
   },
   "file_extension": ".py",
   "mimetype": "text/x-python",
   "name": "python",
   "nbconvert_exporter": "python",
   "pygments_lexer": "ipython3",
   "version": "3.9.12"
  }
 },
 "nbformat": 4,
 "nbformat_minor": 2
}
