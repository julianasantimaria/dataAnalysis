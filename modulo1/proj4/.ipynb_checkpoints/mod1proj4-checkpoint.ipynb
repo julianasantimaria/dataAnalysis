{
 "cells": [
  {
   "cell_type": "code",
   "execution_count": 1,
   "id": "d25f7936",
   "metadata": {},
   "outputs": [
    {
     "name": "stdout",
     "output_type": "stream",
     "text": [
      "\r\n",
      "\u001b[1m[\u001b[0m\u001b[34;49mnotice\u001b[0m\u001b[1;39;49m]\u001b[0m\u001b[39;49m A new release of pip is available: \u001b[0m\u001b[31;49m23.3.1\u001b[0m\u001b[39;49m -> \u001b[0m\u001b[32;49m24.0\u001b[0m\r\n",
      "\u001b[1m[\u001b[0m\u001b[34;49mnotice\u001b[0m\u001b[1;39;49m]\u001b[0m\u001b[39;49m To update, run: \u001b[0m\u001b[32;49mpip install --upgrade pip\u001b[0m\r\n"
     ]
    }
   ],
   "source": [
    "!pip install -q -U watermark"
   ]
  },
  {
   "cell_type": "code",
   "execution_count": 2,
   "id": "6c3c5aa8",
   "metadata": {},
   "outputs": [],
   "source": [
    "import pandas as pd\n",
    "import numpy as np\n",
    "import matplotlib.pyplot as plt\n",
    "import seaborn as sns\n",
    "import warnings\n",
    "warnings.filterwarnings(\"ignore\")"
   ]
  },
  {
   "cell_type": "code",
   "execution_count": 3,
   "id": "e69efb39",
   "metadata": {},
   "outputs": [
    {
     "name": "stdout",
     "output_type": "stream",
     "text": [
      "Author: Juliana Santimaria\n",
      "\n"
     ]
    }
   ],
   "source": [
    "%reload_ext watermark\n",
    "%watermark -a \"Juliana Santimaria\" "
   ]
  },
  {
   "cell_type": "code",
   "execution_count": 4,
   "id": "e74e0a2b",
   "metadata": {},
   "outputs": [],
   "source": [
    "df_mod = pd.read_csv(\"dataset.csv\")"
   ]
  },
  {
   "cell_type": "code",
   "execution_count": 5,
   "id": "30761b3e",
   "metadata": {},
   "outputs": [
    {
     "data": {
      "text/plain": [
       "(1200, 11)"
      ]
     },
     "execution_count": 5,
     "metadata": {},
     "output_type": "execute_result"
    }
   ],
   "source": [
    "df_mod.shape"
   ]
  },
  {
   "cell_type": "code",
   "execution_count": 6,
   "id": "dee2bc81",
   "metadata": {},
   "outputs": [
    {
     "data": {
      "text/html": [
       "<div>\n",
       "<style scoped>\n",
       "    .dataframe tbody tr th:only-of-type {\n",
       "        vertical-align: middle;\n",
       "    }\n",
       "\n",
       "    .dataframe tbody tr th {\n",
       "        vertical-align: top;\n",
       "    }\n",
       "\n",
       "    .dataframe thead th {\n",
       "        text-align: right;\n",
       "    }\n",
       "</style>\n",
       "<table border=\"1\" class=\"dataframe\">\n",
       "  <thead>\n",
       "    <tr style=\"text-align: right;\">\n",
       "      <th></th>\n",
       "      <th>id</th>\n",
       "      <th>data_lancamento</th>\n",
       "      <th>conta_debito</th>\n",
       "      <th>conta_credito</th>\n",
       "      <th>valor</th>\n",
       "      <th>documento</th>\n",
       "      <th>natureza_operacao</th>\n",
       "      <th>centro_custo</th>\n",
       "      <th>impostos</th>\n",
       "      <th>moeda</th>\n",
       "      <th>taxa_conversao</th>\n",
       "    </tr>\n",
       "  </thead>\n",
       "  <tbody>\n",
       "    <tr>\n",
       "      <th>0</th>\n",
       "      <td>1</td>\n",
       "      <td>2022-02-27</td>\n",
       "      <td>DWAVRL</td>\n",
       "      <td>CIOVQ6</td>\n",
       "      <td>5533.25</td>\n",
       "      <td>DOCPAXGQ</td>\n",
       "      <td>OP7JDVK</td>\n",
       "      <td>CC5FYA2</td>\n",
       "      <td>444.13252</td>\n",
       "      <td>NaN</td>\n",
       "      <td>3.475606</td>\n",
       "    </tr>\n",
       "    <tr>\n",
       "      <th>1</th>\n",
       "      <td>2</td>\n",
       "      <td>2022-05-11</td>\n",
       "      <td>D8TF53</td>\n",
       "      <td>CV9Y0V</td>\n",
       "      <td>7180.37</td>\n",
       "      <td>DOCBXZXG</td>\n",
       "      <td>OPXSY64</td>\n",
       "      <td>CCLH4R9</td>\n",
       "      <td>471.09236</td>\n",
       "      <td>EUR</td>\n",
       "      <td>3.523287</td>\n",
       "    </tr>\n",
       "    <tr>\n",
       "      <th>2</th>\n",
       "      <td>3</td>\n",
       "      <td>2020-03-23</td>\n",
       "      <td>D0TZCE</td>\n",
       "      <td>CELQSH</td>\n",
       "      <td>6067.36</td>\n",
       "      <td>DOCF5ITC</td>\n",
       "      <td>OPTDE9B</td>\n",
       "      <td>CCDG8CJ</td>\n",
       "      <td>326.49988</td>\n",
       "      <td>JPY</td>\n",
       "      <td>3.523287</td>\n",
       "    </tr>\n",
       "    <tr>\n",
       "      <th>3</th>\n",
       "      <td>4</td>\n",
       "      <td>2021-06-14</td>\n",
       "      <td>DOGLK7</td>\n",
       "      <td>CDFEMS</td>\n",
       "      <td>5494.34</td>\n",
       "      <td>DOCZRS1U</td>\n",
       "      <td>NaN</td>\n",
       "      <td>CC98G2K</td>\n",
       "      <td>471.09236</td>\n",
       "      <td>JPY</td>\n",
       "      <td>3.523287</td>\n",
       "    </tr>\n",
       "    <tr>\n",
       "      <th>4</th>\n",
       "      <td>5</td>\n",
       "      <td>2022-11-13</td>\n",
       "      <td>DHL0I5</td>\n",
       "      <td>CRU97G</td>\n",
       "      <td>4294.18</td>\n",
       "      <td>NaN</td>\n",
       "      <td>OP62LG1</td>\n",
       "      <td>CCZD80Y</td>\n",
       "      <td>154.26398</td>\n",
       "      <td>EUR</td>\n",
       "      <td>3.523287</td>\n",
       "    </tr>\n",
       "  </tbody>\n",
       "</table>\n",
       "</div>"
      ],
      "text/plain": [
       "   id data_lancamento conta_debito conta_credito    valor documento  \\\n",
       "0   1      2022-02-27       DWAVRL        CIOVQ6  5533.25  DOCPAXGQ   \n",
       "1   2      2022-05-11       D8TF53        CV9Y0V  7180.37  DOCBXZXG   \n",
       "2   3      2020-03-23       D0TZCE        CELQSH  6067.36  DOCF5ITC   \n",
       "3   4      2021-06-14       DOGLK7        CDFEMS  5494.34  DOCZRS1U   \n",
       "4   5      2022-11-13       DHL0I5        CRU97G  4294.18       NaN   \n",
       "\n",
       "  natureza_operacao centro_custo   impostos moeda  taxa_conversao  \n",
       "0           OP7JDVK      CC5FYA2  444.13252   NaN        3.475606  \n",
       "1           OPXSY64      CCLH4R9  471.09236   EUR        3.523287  \n",
       "2           OPTDE9B      CCDG8CJ  326.49988   JPY        3.523287  \n",
       "3               NaN      CC98G2K  471.09236   JPY        3.523287  \n",
       "4           OP62LG1      CCZD80Y  154.26398   EUR        3.523287  "
      ]
     },
     "execution_count": 6,
     "metadata": {},
     "output_type": "execute_result"
    }
   ],
   "source": [
    "df_mod.head()"
   ]
  },
  {
   "cell_type": "code",
   "execution_count": 7,
   "id": "87bc0bba",
   "metadata": {},
   "outputs": [
    {
     "data": {
      "text/plain": [
       "Index(['id', 'data_lancamento', 'conta_debito', 'conta_credito', 'valor',\n",
       "       'documento', 'natureza_operacao', 'centro_custo', 'impostos', 'moeda',\n",
       "       'taxa_conversao'],\n",
       "      dtype='object')"
      ]
     },
     "execution_count": 7,
     "metadata": {},
     "output_type": "execute_result"
    }
   ],
   "source": [
    "df_mod.columns"
   ]
  },
  {
   "cell_type": "code",
   "execution_count": 8,
   "id": "3098b890",
   "metadata": {},
   "outputs": [
    {
     "name": "stdout",
     "output_type": "stream",
     "text": [
      "<class 'pandas.core.frame.DataFrame'>\n",
      "RangeIndex: 1200 entries, 0 to 1199\n",
      "Data columns (total 11 columns):\n",
      " #   Column             Non-Null Count  Dtype  \n",
      "---  ------             --------------  -----  \n",
      " 0   id                 1200 non-null   int64  \n",
      " 1   data_lancamento    1200 non-null   object \n",
      " 2   conta_debito       1200 non-null   object \n",
      " 3   conta_credito      1200 non-null   object \n",
      " 4   valor              1200 non-null   float64\n",
      " 5   documento          1078 non-null   object \n",
      " 6   natureza_operacao  1080 non-null   object \n",
      " 7   centro_custo       1200 non-null   object \n",
      " 8   impostos           1020 non-null   float64\n",
      " 9   moeda              947 non-null    object \n",
      " 10  taxa_conversao     982 non-null    float64\n",
      "dtypes: float64(3), int64(1), object(7)\n",
      "memory usage: 103.2+ KB\n"
     ]
    }
   ],
   "source": [
    "df_mod.info()"
   ]
  },
  {
   "cell_type": "code",
   "execution_count": 9,
   "id": "af0e81f9",
   "metadata": {},
   "outputs": [
    {
     "data": {
      "text/plain": [
       "id                   False\n",
       "data_lancamento      False\n",
       "conta_debito         False\n",
       "conta_credito        False\n",
       "valor                False\n",
       "documento             True\n",
       "natureza_operacao     True\n",
       "centro_custo         False\n",
       "impostos              True\n",
       "moeda                 True\n",
       "taxa_conversao        True\n",
       "dtype: bool"
      ]
     },
     "execution_count": 9,
     "metadata": {},
     "output_type": "execute_result"
    }
   ],
   "source": [
    "df_mod.isna().any()"
   ]
  },
  {
   "cell_type": "code",
   "execution_count": 10,
   "id": "5e92f874",
   "metadata": {},
   "outputs": [
    {
     "data": {
      "text/plain": [
       "id                     0\n",
       "data_lancamento        0\n",
       "conta_debito           0\n",
       "conta_credito          0\n",
       "valor                  0\n",
       "documento            122\n",
       "natureza_operacao    120\n",
       "centro_custo           0\n",
       "impostos             180\n",
       "moeda                253\n",
       "taxa_conversao       218\n",
       "dtype: int64"
      ]
     },
     "execution_count": 10,
     "metadata": {},
     "output_type": "execute_result"
    }
   ],
   "source": [
    "df_mod.isna().sum()"
   ]
  },
  {
   "cell_type": "code",
   "execution_count": 11,
   "id": "f5385b43",
   "metadata": {},
   "outputs": [
    {
     "name": "stdout",
     "output_type": "stream",
     "text": [
      "id                   0.000000\n",
      "data_lancamento      0.000000\n",
      "conta_debito         0.000000\n",
      "conta_credito        0.000000\n",
      "valor                0.000000\n",
      "documento            0.101667\n",
      "natureza_operacao    0.100000\n",
      "centro_custo         0.000000\n",
      "impostos             0.150000\n",
      "moeda                0.210833\n",
      "taxa_conversao       0.181667\n",
      "dtype: float64\n"
     ]
    }
   ],
   "source": [
    "missing_values = df_mod.isna().sum()\n",
    "line_total = len(df_mod)\n",
    "prop_missing_values = missing_values / line_total\n",
    "\n",
    "print(prop_missing_values)"
   ]
  },
  {
   "cell_type": "code",
   "execution_count": 12,
   "id": "1a12c248",
   "metadata": {},
   "outputs": [
    {
     "data": {
      "image/png": "[encoded data removed]",
      "text/plain": [
       "<Figure size 720x360 with 1 Axes>"
      ]
     },
     "metadata": {
      "needs_background": "light"
     },
     "output_type": "display_data"
    }
   ],
   "source": [
    "plt.figure(figsize = (10, 5))\n",
    "sns.histplot(df_mod['valor'], kde = True, bins = 30)\n",
    "plt.title('Distribution of Launch Values')\n",
    "plt.xlabel('Value')\n",
    "plt.ylabel('frequency')\n",
    "plt.show()"
   ]
  },
  {
   "cell_type": "code",
   "execution_count": 13,
   "id": "3362bc5c",
   "metadata": {},
   "outputs": [
    {
     "data": {
      "image/png": "[encoded data removed]",
      "text/plain": [
       "<Figure size 864x360 with 1 Axes>"
      ]
     },
     "metadata": {
      "needs_background": "light"
     },
     "output_type": "display_data"
    }
   ],
   "source": [
    "plt.figure(figsize = (12, 5))\n",
    "df_mod['data_lancamento'] = pd.to_datetime(df_mod['data_lancamento'])\n",
    "sns.lineplot(x = 'data_lancamento', y = 'valor', data = df_mod)\n",
    "plt.title('Launch Values Over Time')\n",
    "plt.xlabel('Release Date')\n",
    "plt.ylabel('Value')\n",
    "plt.xticks(rotation = 45)\n",
    "plt.show()"
   ]
  },
  {
   "cell_type": "code",
   "execution_count": 14,
   "id": "96233298",
   "metadata": {},
   "outputs": [
    {
     "data": {
      "image/png": "[encoded data removed]",
      "text/plain": [
       "<Figure size 576x360 with 1 Axes>"
      ]
     },
     "metadata": {
      "needs_background": "light"
     },
     "output_type": "display_data"
    }
   ],
   "source": [
    "plt.figure(figsize = (8, 5))\n",
    "sns.boxplot(x = df_mod['impostos'])\n",
    "plt.title('Tax Boxplot')\n",
    "plt.xlabel('Tax')\n",
    "plt.show()"
   ]
  },
  {
   "cell_type": "code",
   "execution_count": 15,
   "id": "8e9c0a50",
   "metadata": {},
   "outputs": [
    {
     "data": {
      "image/png": "[encoded data removed]",
      "text/plain": [
       "<Figure size 432x288 with 1 Axes>"
      ]
     },
     "metadata": {
      "needs_background": "light"
     },
     "output_type": "display_data"
    }
   ],
   "source": [
    "plt.figure(figsize = (6, 4))\n",
    "sns.countplot(x = 'moeda', data = df_mod)\n",
    "plt.title('Transaction Count by Currency')\n",
    "plt.xlabel('Coin')\n",
    "plt.ylabel('Count')\n",
    "plt.show()"
   ]
  },
  {
   "cell_type": "code",
   "execution_count": 16,
   "id": "b3f33b87",
   "metadata": {},
   "outputs": [
    {
     "data": {
      "text/plain": [
       "180"
      ]
     },
     "execution_count": 16,
     "metadata": {},
     "output_type": "execute_result"
    }
   ],
   "source": [
    "df_mod['impostos'].isna().sum()"
   ]
  },
  {
   "cell_type": "code",
   "execution_count": 17,
   "id": "b86cb807",
   "metadata": {},
   "outputs": [
    {
     "data": {
      "image/png": "[encoded data removed]",
      "text/plain": [
       "<Figure size 720x360 with 1 Axes>"
      ]
     },
     "metadata": {
      "needs_background": "light"
     },
     "output_type": "display_data"
    }
   ],
   "source": [
    "plt.figure(figsize = (10, 5))\n",
    "sns.histplot(df_mod['impostos'], kde = True, bins = 30)\n",
    "plt.title('Distribution of Tax Amounts')\n",
    "plt.xlabel('Value')\n",
    "plt.ylabel('Frequency')\n",
    "plt.show()"
   ]
  },
  {
   "cell_type": "code",
   "execution_count": 18,
   "id": "bfec9df1",
   "metadata": {},
   "outputs": [
    {
     "data": {
      "text/plain": [
       "604.26454596587"
      ]
     },
     "execution_count": 18,
     "metadata": {},
     "output_type": "execute_result"
    }
   ],
   "source": [
    "df_mod['impostos'].mean()"
   ]
  },
  {
   "cell_type": "code",
   "execution_count": 19,
   "id": "07099238",
   "metadata": {},
   "outputs": [
    {
     "data": {
      "text/plain": [
       "430.1553391717098"
      ]
     },
     "execution_count": 19,
     "metadata": {},
     "output_type": "execute_result"
    }
   ],
   "source": [
    "df_mod['impostos'].median()"
   ]
  },
  {
   "cell_type": "code",
   "execution_count": 20,
   "id": "35008942",
   "metadata": {},
   "outputs": [],
   "source": [
    "df_mod['impostos'].fillna(df_mod['impostos'].median(), inplace = True)"
   ]
  },
  {
   "cell_type": "code",
   "execution_count": 21,
   "id": "e1d1e303",
   "metadata": {},
   "outputs": [
    {
     "data": {
      "text/plain": [
       "0"
      ]
     },
     "execution_count": 21,
     "metadata": {},
     "output_type": "execute_result"
    }
   ],
   "source": [
    "df_mod['impostos'].isna().sum()"
   ]
  },
  {
   "cell_type": "code",
   "execution_count": 22,
   "id": "ab7028cd",
   "metadata": {},
   "outputs": [
    {
     "data": {
      "text/plain": [
       "id                     0\n",
       "data_lancamento        0\n",
       "conta_debito           0\n",
       "conta_credito          0\n",
       "valor                  0\n",
       "documento            122\n",
       "natureza_operacao    120\n",
       "centro_custo           0\n",
       "impostos               0\n",
       "moeda                253\n",
       "taxa_conversao       218\n",
       "dtype: int64"
      ]
     },
     "execution_count": 22,
     "metadata": {},
     "output_type": "execute_result"
    }
   ],
   "source": [
    "df_mod.isna().sum()"
   ]
  },
  {
   "cell_type": "code",
   "execution_count": 23,
   "id": "cd1dd1db",
   "metadata": {},
   "outputs": [
    {
     "data": {
      "text/plain": [
       "253"
      ]
     },
     "execution_count": 23,
     "metadata": {},
     "output_type": "execute_result"
    }
   ],
   "source": [
    "df_mod['moeda'].isna().sum()"
   ]
  },
  {
   "cell_type": "code",
   "execution_count": 24,
   "id": "97ad4cd5",
   "metadata": {},
   "outputs": [
    {
     "data": {
      "text/plain": [
       "'BRL'"
      ]
     },
     "execution_count": 24,
     "metadata": {},
     "output_type": "execute_result"
    }
   ],
   "source": [
    "df_mod['moeda'].mode()[0]"
   ]
  },
  {
   "cell_type": "code",
   "execution_count": 25,
   "id": "d3d1b1a4",
   "metadata": {},
   "outputs": [],
   "source": [
    "df_mod['moeda'].fillna(df_mod['moeda'].mode()[0], inplace = True)"
   ]
  },
  {
   "cell_type": "code",
   "execution_count": 26,
   "id": "b39eb0bb",
   "metadata": {},
   "outputs": [
    {
     "data": {
      "text/plain": [
       "0"
      ]
     },
     "execution_count": 26,
     "metadata": {},
     "output_type": "execute_result"
    }
   ],
   "source": [
    "df_mod['moeda'].isna().sum()"
   ]
  },
  {
   "cell_type": "code",
   "execution_count": 27,
   "id": "63dbb761",
   "metadata": {},
   "outputs": [
    {
     "data": {
      "text/plain": [
       "id                     0\n",
       "data_lancamento        0\n",
       "conta_debito           0\n",
       "conta_credito          0\n",
       "valor                  0\n",
       "documento            122\n",
       "natureza_operacao    120\n",
       "centro_custo           0\n",
       "impostos               0\n",
       "moeda                  0\n",
       "taxa_conversao       218\n",
       "dtype: int64"
      ]
     },
     "execution_count": 27,
     "metadata": {},
     "output_type": "execute_result"
    }
   ],
   "source": [
    "df_mod.isna().sum()"
   ]
  },
  {
   "cell_type": "code",
   "execution_count": 28,
   "id": "5a3b2a70",
   "metadata": {},
   "outputs": [
    {
     "name": "stdout",
     "output_type": "stream",
     "text": [
      "id                   0.000000\n",
      "data_lancamento      0.000000\n",
      "conta_debito         0.000000\n",
      "conta_credito        0.000000\n",
      "valor                0.000000\n",
      "documento            0.101667\n",
      "natureza_operacao    0.100000\n",
      "centro_custo         0.000000\n",
      "impostos             0.000000\n",
      "moeda                0.000000\n",
      "taxa_conversao       0.181667\n",
      "dtype: float64\n"
     ]
    }
   ],
   "source": [
    "missing_values = df_mod.isna().sum()\n",
    "\n",
    "lines_total = len(df_mod)\n",
    "\n",
    "prop_missing_values = missing_values / lines_total\n",
    "\n",
    "print(prop_missing_values)"
   ]
  },
  {
   "cell_type": "code",
   "execution_count": 29,
   "id": "cd868a36",
   "metadata": {},
   "outputs": [],
   "source": [
    "df_mod['taxa_conversao'].fillna('Other', inplace = True)"
   ]
  },
  {
   "cell_type": "code",
   "execution_count": 30,
   "id": "b9a0724b",
   "metadata": {},
   "outputs": [],
   "source": [
    "df_mod['documento'].fillna('Other', inplace = True)"
   ]
  },
  {
   "cell_type": "code",
   "execution_count": 31,
   "id": "418e1e15",
   "metadata": {},
   "outputs": [],
   "source": [
    "df_mod['natureza_operacao'].fillna(method = 'bfill', inplace = True)"
   ]
  },
  {
   "cell_type": "code",
   "execution_count": 32,
   "id": "81f7d6cc",
   "metadata": {},
   "outputs": [
    {
     "data": {
      "text/html": [
       "<div>\n",
       "<style scoped>\n",
       "    .dataframe tbody tr th:only-of-type {\n",
       "        vertical-align: middle;\n",
       "    }\n",
       "\n",
       "    .dataframe tbody tr th {\n",
       "        vertical-align: top;\n",
       "    }\n",
       "\n",
       "    .dataframe thead th {\n",
       "        text-align: right;\n",
       "    }\n",
       "</style>\n",
       "<table border=\"1\" class=\"dataframe\">\n",
       "  <thead>\n",
       "    <tr style=\"text-align: right;\">\n",
       "      <th></th>\n",
       "      <th>id</th>\n",
       "      <th>data_lancamento</th>\n",
       "      <th>conta_debito</th>\n",
       "      <th>conta_credito</th>\n",
       "      <th>valor</th>\n",
       "      <th>documento</th>\n",
       "      <th>natureza_operacao</th>\n",
       "      <th>centro_custo</th>\n",
       "      <th>impostos</th>\n",
       "      <th>moeda</th>\n",
       "      <th>taxa_conversao</th>\n",
       "    </tr>\n",
       "  </thead>\n",
       "  <tbody>\n",
       "    <tr>\n",
       "      <th>0</th>\n",
       "      <td>1</td>\n",
       "      <td>2022-02-27</td>\n",
       "      <td>DWAVRL</td>\n",
       "      <td>CIOVQ6</td>\n",
       "      <td>5533.25</td>\n",
       "      <td>DOCPAXGQ</td>\n",
       "      <td>OP7JDVK</td>\n",
       "      <td>CC5FYA2</td>\n",
       "      <td>444.13252</td>\n",
       "      <td>BRL</td>\n",
       "      <td>3.475606</td>\n",
       "    </tr>\n",
       "    <tr>\n",
       "      <th>1</th>\n",
       "      <td>2</td>\n",
       "      <td>2022-05-11</td>\n",
       "      <td>D8TF53</td>\n",
       "      <td>CV9Y0V</td>\n",
       "      <td>7180.37</td>\n",
       "      <td>DOCBXZXG</td>\n",
       "      <td>OPXSY64</td>\n",
       "      <td>CCLH4R9</td>\n",
       "      <td>471.09236</td>\n",
       "      <td>EUR</td>\n",
       "      <td>3.523287</td>\n",
       "    </tr>\n",
       "    <tr>\n",
       "      <th>2</th>\n",
       "      <td>3</td>\n",
       "      <td>2020-03-23</td>\n",
       "      <td>D0TZCE</td>\n",
       "      <td>CELQSH</td>\n",
       "      <td>6067.36</td>\n",
       "      <td>DOCF5ITC</td>\n",
       "      <td>OPTDE9B</td>\n",
       "      <td>CCDG8CJ</td>\n",
       "      <td>326.49988</td>\n",
       "      <td>JPY</td>\n",
       "      <td>3.523287</td>\n",
       "    </tr>\n",
       "    <tr>\n",
       "      <th>3</th>\n",
       "      <td>4</td>\n",
       "      <td>2021-06-14</td>\n",
       "      <td>DOGLK7</td>\n",
       "      <td>CDFEMS</td>\n",
       "      <td>5494.34</td>\n",
       "      <td>DOCZRS1U</td>\n",
       "      <td>OP62LG1</td>\n",
       "      <td>CC98G2K</td>\n",
       "      <td>471.09236</td>\n",
       "      <td>JPY</td>\n",
       "      <td>3.523287</td>\n",
       "    </tr>\n",
       "    <tr>\n",
       "      <th>4</th>\n",
       "      <td>5</td>\n",
       "      <td>2022-11-13</td>\n",
       "      <td>DHL0I5</td>\n",
       "      <td>CRU97G</td>\n",
       "      <td>4294.18</td>\n",
       "      <td>Other</td>\n",
       "      <td>OP62LG1</td>\n",
       "      <td>CCZD80Y</td>\n",
       "      <td>154.26398</td>\n",
       "      <td>EUR</td>\n",
       "      <td>3.523287</td>\n",
       "    </tr>\n",
       "  </tbody>\n",
       "</table>\n",
       "</div>"
      ],
      "text/plain": [
       "   id data_lancamento conta_debito conta_credito    valor documento  \\\n",
       "0   1      2022-02-27       DWAVRL        CIOVQ6  5533.25  DOCPAXGQ   \n",
       "1   2      2022-05-11       D8TF53        CV9Y0V  7180.37  DOCBXZXG   \n",
       "2   3      2020-03-23       D0TZCE        CELQSH  6067.36  DOCF5ITC   \n",
       "3   4      2021-06-14       DOGLK7        CDFEMS  5494.34  DOCZRS1U   \n",
       "4   5      2022-11-13       DHL0I5        CRU97G  4294.18     Other   \n",
       "\n",
       "  natureza_operacao centro_custo   impostos moeda taxa_conversao  \n",
       "0           OP7JDVK      CC5FYA2  444.13252   BRL       3.475606  \n",
       "1           OPXSY64      CCLH4R9  471.09236   EUR       3.523287  \n",
       "2           OPTDE9B      CCDG8CJ  326.49988   JPY       3.523287  \n",
       "3           OP62LG1      CC98G2K  471.09236   JPY       3.523287  \n",
       "4           OP62LG1      CCZD80Y  154.26398   EUR       3.523287  "
      ]
     },
     "execution_count": 32,
     "metadata": {},
     "output_type": "execute_result"
    }
   ],
   "source": [
    "df_mod.head()"
   ]
  },
  {
   "cell_type": "code",
   "execution_count": 33,
   "id": "9799dc22",
   "metadata": {},
   "outputs": [
    {
     "name": "stdout",
     "output_type": "stream",
     "text": [
      "True\n"
     ]
    }
   ],
   "source": [
    "question_value = df_mod['conta_credito'].isin(['?']).any()\n",
    "print(question_value)"
   ]
  },
  {
   "cell_type": "code",
   "execution_count": 34,
   "id": "6947efbb",
   "metadata": {},
   "outputs": [
    {
     "name": "stdout",
     "output_type": "stream",
     "text": [
      "4\n"
     ]
    }
   ],
   "source": [
    "value_count = df_mod['conta_credito'].value_counts()\n",
    "\n",
    "number_occurrences_question = value_count.get('?', 0)\n",
    "\n",
    "print(number_occurrences_question)"
   ]
  },
  {
   "cell_type": "code",
   "execution_count": 35,
   "id": "eb173dd7",
   "metadata": {},
   "outputs": [
    {
     "name": "stdout",
     "output_type": "stream",
     "text": [
      "The column 'conta_debito' contains '?'? False\n",
      "The column 'conta_credito' contains '?'? True\n",
      "The column 'documento' contains '?'? False\n",
      "The column 'natureza_operacao' contains '?'? False\n",
      "The column 'centro_custo' contains '?'? False\n",
      "The column 'moeda' contains '?'? False\n",
      "The column 'taxa_conversao' contains '?'? False\n"
     ]
    }
   ],
   "source": [
    "category_columns = df_mod.select_dtypes(include = ['object', 'category']).columns\n",
    "\n",
    "for coluna in category_columns:\n",
    "    \n",
    "    has_value_question = df_mod[coluna].isin(['?']).any()\n",
    "    print(f\"The column '{coluna}' contains '?'? {has_value_question}\")"
   ]
  },
  {
   "cell_type": "code",
   "execution_count": 36,
   "id": "62795d82",
   "metadata": {},
   "outputs": [],
   "source": [
    "df_mod['conta_credito'].replace('?', np.nan, inplace = True)\n",
    "\n",
    "df_mod['conta_credito'].fillna(method = 'ffill', inplace = True)"
   ]
  },
  {
   "cell_type": "code",
   "execution_count": 37,
   "id": "3b0e91da",
   "metadata": {},
   "outputs": [
    {
     "data": {
      "text/plain": [
       "0"
      ]
     },
     "execution_count": 37,
     "metadata": {},
     "output_type": "execute_result"
    }
   ],
   "source": [
    "df_mod['conta_credito'].isna().sum()"
   ]
  },
  {
   "cell_type": "code",
   "execution_count": 38,
   "id": "6512d4c5",
   "metadata": {},
   "outputs": [
    {
     "data": {
      "text/plain": [
       "id                   0\n",
       "data_lancamento      0\n",
       "conta_debito         0\n",
       "conta_credito        0\n",
       "valor                0\n",
       "documento            0\n",
       "natureza_operacao    0\n",
       "centro_custo         0\n",
       "impostos             0\n",
       "moeda                0\n",
       "taxa_conversao       0\n",
       "dtype: int64"
      ]
     },
     "execution_count": 38,
     "metadata": {},
     "output_type": "execute_result"
    }
   ],
   "source": [
    "df_mod.isna().sum()"
   ]
  },
  {
   "cell_type": "code",
   "execution_count": 39,
   "id": "68694f26",
   "metadata": {},
   "outputs": [
    {
     "data": {
      "image/png": "[encoded data removed]",
      "text/plain": [
       "<Figure size 576x360 with 1 Axes>"
      ]
     },
     "metadata": {
      "needs_background": "light"
     },
     "output_type": "display_data"
    }
   ],
   "source": [
    "plt.figure(figsize = (8, 5))\n",
    "sns.boxplot(x = df_mod['valor'])\n",
    "plt.title('Boxplot of Values')\n",
    "plt.xlabel('Values')\n",
    "plt.show()"
   ]
  },
  {
   "cell_type": "code",
   "execution_count": 40,
   "id": "eb1742e9",
   "metadata": {},
   "outputs": [],
   "source": [
    "Q1 = df_mod['valor'].quantile(0.25)\n",
    "Q3 = df_mod['valor'].quantile(0.75)\n",
    "\n",
    "IQR = Q3 - Q1\n",
    "\n",
    "inferior_limit = Q1 - 1.5 * IQR\n",
    "upper_limit = Q3 + 1.5 * IQR\n",
    "\n",
    "df_mod_filter_1 = df_mod[~((df_mod['valor'] < inferior_limit) | (df_mod['valor'] > upper_limit))]"
   ]
  },
  {
   "cell_type": "code",
   "execution_count": 41,
   "id": "f3edfe6e",
   "metadata": {},
   "outputs": [
    {
     "data": {
      "image/png": "[encoded data removed]",
      "text/plain": [
       "<Figure size 576x360 with 1 Axes>"
      ]
     },
     "metadata": {
      "needs_background": "light"
     },
     "output_type": "display_data"
    }
   ],
   "source": [
    "plt.figure(figsize = (8, 5))\n",
    "sns.boxplot(x = df_mod_filter_1['valor'])\n",
    "plt.title('Values Boxplot')\n",
    "plt.xlabel('Values')\n",
    "plt.show()"
   ]
  },
  {
   "cell_type": "code",
   "execution_count": 42,
   "id": "bc4db27f",
   "metadata": {},
   "outputs": [
    {
     "data": {
      "image/png": "[encoded data removed]",
      "text/plain": [
       "<Figure size 576x360 with 1 Axes>"
      ]
     },
     "metadata": {
      "needs_background": "light"
     },
     "output_type": "display_data"
    }
   ],
   "source": [
    "plt.figure(figsize = (8, 5))\n",
    "sns.boxplot(x = df_mod['impostos'])\n",
    "plt.title('Tax Boxplot')\n",
    "plt.xlabel('Tax')\n",
    "plt.show()"
   ]
  },
  {
   "cell_type": "code",
   "execution_count": 43,
   "id": "1bddffa7",
   "metadata": {},
   "outputs": [],
   "source": [
    "Q1 = df_mod['impostos'].quantile(0.25)\n",
    "Q3 = df_mod['impostos'].quantile(0.75)\n",
    "\n",
    "IQR = Q3 - Q1\n",
    "\n",
    "inferior_limit = Q1 - 1.5 * IQR\n",
    "upper_limit = Q3 + 1.5 * IQR\n",
    "\n",
    "df_mod_filter_2 = df_mod_filter_1[~((df_mod_filter_1['impostos'] < inferior_limit) | (df_mod_filter_1['impostos'] > upper_limit))]"
   ]
  },
  {
   "cell_type": "code",
   "execution_count": 44,
   "id": "e28ef27c",
   "metadata": {},
   "outputs": [
    {
     "data": {
      "image/png": "[encoded data removed]",
      "text/plain": [
       "<Figure size 576x360 with 1 Axes>"
      ]
     },
     "metadata": {
      "needs_background": "light"
     },
     "output_type": "display_data"
    }
   ],
   "source": [
    "plt.figure(figsize = (8, 5))\n",
    "sns.boxplot(x = df_mod_filter_2['impostos'])\n",
    "plt.title('Tax Boxplot')\n",
    "plt.xlabel('Tax')\n",
    "plt.show()"
   ]
  },
  {
   "cell_type": "code",
   "execution_count": 45,
   "id": "be2a76ed",
   "metadata": {},
   "outputs": [
    {
     "name": "stdout",
     "output_type": "stream",
     "text": [
      "<class 'pandas.core.frame.DataFrame'>\n",
      "Int64Index: 1097 entries, 0 to 1199\n",
      "Data columns (total 11 columns):\n",
      " #   Column             Non-Null Count  Dtype         \n",
      "---  ------             --------------  -----         \n",
      " 0   id                 1097 non-null   int64         \n",
      " 1   data_lancamento    1097 non-null   datetime64[ns]\n",
      " 2   conta_debito       1097 non-null   object        \n",
      " 3   conta_credito      1097 non-null   object        \n",
      " 4   valor              1097 non-null   float64       \n",
      " 5   documento          1097 non-null   object        \n",
      " 6   natureza_operacao  1097 non-null   object        \n",
      " 7   centro_custo       1097 non-null   object        \n",
      " 8   impostos           1097 non-null   float64       \n",
      " 9   moeda              1097 non-null   object        \n",
      " 10  taxa_conversao     1097 non-null   object        \n",
      "dtypes: datetime64[ns](1), float64(2), int64(1), object(7)\n",
      "memory usage: 102.8+ KB\n"
     ]
    }
   ],
   "source": [
    "df_mod_filter_2.info()"
   ]
  },
  {
   "cell_type": "code",
   "execution_count": 46,
   "id": "7343d587",
   "metadata": {},
   "outputs": [
    {
     "data": {
      "image/png": "[encoded data removed]",
      "text/plain": [
       "<Figure size 720x432 with 1 Axes>"
      ]
     },
     "metadata": {},
     "output_type": "display_data"
    }
   ],
   "source": [
    "sns.set(style = \"whitegrid\")\n",
    "\n",
    "plt.figure(figsize = (10, 6))\n",
    "sns.histplot(df_mod_filter_2['valor'], kde = True, bins = 30)\n",
    "plt.title('Distribution of Launch Values')\n",
    "plt.xlabel('Values')\n",
    "plt.ylabel('Frequency')\n",
    "plt.show()"
   ]
  },
  {
   "cell_type": "code",
   "execution_count": 47,
   "id": "dfc6cae4",
   "metadata": {},
   "outputs": [
    {
     "data": {
      "image/png": "[encoded data removed]",
      "text/plain": [
       "<Figure size 720x432 with 1 Axes>"
      ]
     },
     "metadata": {},
     "output_type": "display_data"
    }
   ],
   "source": [
    "sns.set(style = \"whitegrid\")\n",
    "\n",
    "plt.figure(figsize = (10, 6))\n",
    "sns.histplot(df_mod_filter_2['impostos'], kde = True, bins = 30)\n",
    "plt.title('Distribution of Taxes')\n",
    "plt.xlabel('Tax')\n",
    "plt.ylabel('Frequency')\n",
    "plt.show()"
   ]
  },
  {
   "cell_type": "code",
   "execution_count": 48,
   "id": "30c87f97",
   "metadata": {},
   "outputs": [],
   "source": [
    "from scipy.stats import skew"
   ]
  },
  {
   "cell_type": "code",
   "execution_count": 49,
   "id": "73a7e1ad",
   "metadata": {},
   "outputs": [
    {
     "name": "stdout",
     "output_type": "stream",
     "text": [
      "The asymmetry of the distribution of values is: 0.09784439352386005\n"
     ]
    }
   ],
   "source": [
    "skewness = skew(df_mod_filter_2['valor'])\n",
    "print(f\"The asymmetry of the distribution of values is: {skewness}\")"
   ]
  },
  {
   "cell_type": "code",
   "execution_count": 50,
   "id": "37fa386a",
   "metadata": {},
   "outputs": [
    {
     "name": "stdout",
     "output_type": "stream",
     "text": [
      "The asymmetry of tax distribution is: -1.2735246899435217\n"
     ]
    }
   ],
   "source": [
    "skewness = skew(df_mod_filter_2['impostos'])\n",
    "print(f\"The asymmetry of tax distribution is: {skewness}\")"
   ]
  },
  {
   "cell_type": "code",
   "execution_count": 51,
   "id": "e0f320f7",
   "metadata": {},
   "outputs": [
    {
     "data": {
      "image/png": "[encoded data removed]",
      "text/plain": [
       "<Figure size 576x360 with 1 Axes>"
      ]
     },
     "metadata": {},
     "output_type": "display_data"
    }
   ],
   "source": [
    "plt.figure(figsize = (8, 5))\n",
    "sns.boxplot(x = df_mod_filter_2['valor'])\n",
    "plt.title('Values Boxplot')\n",
    "plt.xlabel('Values')\n",
    "plt.show()"
   ]
  },
  {
   "cell_type": "code",
   "execution_count": 52,
   "id": "7a4d2b9f",
   "metadata": {},
   "outputs": [
    {
     "data": {
      "image/png": "[encoded data removed]",
      "text/plain": [
       "<Figure size 576x360 with 1 Axes>"
      ]
     },
     "metadata": {},
     "output_type": "display_data"
    }
   ],
   "source": [
    "plt.figure(figsize = (8, 5))\n",
    "sns.boxplot(x = df_mod_filter_2['impostos'])\n",
    "plt.title('Tax Boxplot')\n",
    "plt.xlabel('Tax')\n",
    "plt.show()"
   ]
  },
  {
   "cell_type": "code",
   "execution_count": 53,
   "id": "4dc45d26",
   "metadata": {},
   "outputs": [
    {
     "data": {
      "text/html": [
       "<div>\n",
       "<style scoped>\n",
       "    .dataframe tbody tr th:only-of-type {\n",
       "        vertical-align: middle;\n",
       "    }\n",
       "\n",
       "    .dataframe tbody tr th {\n",
       "        vertical-align: top;\n",
       "    }\n",
       "\n",
       "    .dataframe thead th {\n",
       "        text-align: right;\n",
       "    }\n",
       "</style>\n",
       "<table border=\"1\" class=\"dataframe\">\n",
       "  <thead>\n",
       "    <tr style=\"text-align: right;\">\n",
       "      <th></th>\n",
       "      <th>id</th>\n",
       "      <th>data_lancamento</th>\n",
       "      <th>conta_debito</th>\n",
       "      <th>conta_credito</th>\n",
       "      <th>valor</th>\n",
       "      <th>documento</th>\n",
       "      <th>natureza_operacao</th>\n",
       "      <th>centro_custo</th>\n",
       "      <th>impostos</th>\n",
       "      <th>moeda</th>\n",
       "      <th>taxa_conversao</th>\n",
       "    </tr>\n",
       "  </thead>\n",
       "  <tbody>\n",
       "    <tr>\n",
       "      <th>0</th>\n",
       "      <td>1</td>\n",
       "      <td>2022-02-27</td>\n",
       "      <td>DWAVRL</td>\n",
       "      <td>CIOVQ6</td>\n",
       "      <td>5533.25</td>\n",
       "      <td>DOCPAXGQ</td>\n",
       "      <td>OP7JDVK</td>\n",
       "      <td>CC5FYA2</td>\n",
       "      <td>444.13252</td>\n",
       "      <td>BRL</td>\n",
       "      <td>3.475606</td>\n",
       "    </tr>\n",
       "    <tr>\n",
       "      <th>1</th>\n",
       "      <td>2</td>\n",
       "      <td>2022-05-11</td>\n",
       "      <td>D8TF53</td>\n",
       "      <td>CV9Y0V</td>\n",
       "      <td>7180.37</td>\n",
       "      <td>DOCBXZXG</td>\n",
       "      <td>OPXSY64</td>\n",
       "      <td>CCLH4R9</td>\n",
       "      <td>471.09236</td>\n",
       "      <td>EUR</td>\n",
       "      <td>3.523287</td>\n",
       "    </tr>\n",
       "    <tr>\n",
       "      <th>2</th>\n",
       "      <td>3</td>\n",
       "      <td>2020-03-23</td>\n",
       "      <td>D0TZCE</td>\n",
       "      <td>CELQSH</td>\n",
       "      <td>6067.36</td>\n",
       "      <td>DOCF5ITC</td>\n",
       "      <td>OPTDE9B</td>\n",
       "      <td>CCDG8CJ</td>\n",
       "      <td>326.49988</td>\n",
       "      <td>JPY</td>\n",
       "      <td>3.523287</td>\n",
       "    </tr>\n",
       "    <tr>\n",
       "      <th>3</th>\n",
       "      <td>4</td>\n",
       "      <td>2021-06-14</td>\n",
       "      <td>DOGLK7</td>\n",
       "      <td>CDFEMS</td>\n",
       "      <td>5494.34</td>\n",
       "      <td>DOCZRS1U</td>\n",
       "      <td>OP62LG1</td>\n",
       "      <td>CC98G2K</td>\n",
       "      <td>471.09236</td>\n",
       "      <td>JPY</td>\n",
       "      <td>3.523287</td>\n",
       "    </tr>\n",
       "    <tr>\n",
       "      <th>4</th>\n",
       "      <td>5</td>\n",
       "      <td>2022-11-13</td>\n",
       "      <td>DHL0I5</td>\n",
       "      <td>CRU97G</td>\n",
       "      <td>4294.18</td>\n",
       "      <td>Other</td>\n",
       "      <td>OP62LG1</td>\n",
       "      <td>CCZD80Y</td>\n",
       "      <td>154.26398</td>\n",
       "      <td>EUR</td>\n",
       "      <td>3.523287</td>\n",
       "    </tr>\n",
       "  </tbody>\n",
       "</table>\n",
       "</div>"
      ],
      "text/plain": [
       "   id data_lancamento conta_debito conta_credito    valor documento  \\\n",
       "0   1      2022-02-27       DWAVRL        CIOVQ6  5533.25  DOCPAXGQ   \n",
       "1   2      2022-05-11       D8TF53        CV9Y0V  7180.37  DOCBXZXG   \n",
       "2   3      2020-03-23       D0TZCE        CELQSH  6067.36  DOCF5ITC   \n",
       "3   4      2021-06-14       DOGLK7        CDFEMS  5494.34  DOCZRS1U   \n",
       "4   5      2022-11-13       DHL0I5        CRU97G  4294.18     Other   \n",
       "\n",
       "  natureza_operacao centro_custo   impostos moeda taxa_conversao  \n",
       "0           OP7JDVK      CC5FYA2  444.13252   BRL       3.475606  \n",
       "1           OPXSY64      CCLH4R9  471.09236   EUR       3.523287  \n",
       "2           OPTDE9B      CCDG8CJ  326.49988   JPY       3.523287  \n",
       "3           OP62LG1      CC98G2K  471.09236   JPY       3.523287  \n",
       "4           OP62LG1      CCZD80Y  154.26398   EUR       3.523287  "
      ]
     },
     "execution_count": 53,
     "metadata": {},
     "output_type": "execute_result"
    }
   ],
   "source": [
    "df_mod_filter_2.head()"
   ]
  },
  {
   "cell_type": "code",
   "execution_count": 54,
   "id": "ea0c7ad6",
   "metadata": {},
   "outputs": [
    {
     "name": "stdout",
     "output_type": "stream",
     "text": [
      "<class 'pandas.core.frame.DataFrame'>\n",
      "Int64Index: 1097 entries, 0 to 1199\n",
      "Data columns (total 11 columns):\n",
      " #   Column             Non-Null Count  Dtype         \n",
      "---  ------             --------------  -----         \n",
      " 0   id                 1097 non-null   int64         \n",
      " 1   data_lancamento    1097 non-null   datetime64[ns]\n",
      " 2   conta_debito       1097 non-null   object        \n",
      " 3   conta_credito      1097 non-null   object        \n",
      " 4   valor              1097 non-null   float64       \n",
      " 5   documento          1097 non-null   object        \n",
      " 6   natureza_operacao  1097 non-null   object        \n",
      " 7   centro_custo       1097 non-null   object        \n",
      " 8   impostos           1097 non-null   float64       \n",
      " 9   moeda              1097 non-null   object        \n",
      " 10  taxa_conversao     1097 non-null   object        \n",
      "dtypes: datetime64[ns](1), float64(2), int64(1), object(7)\n",
      "memory usage: 102.8+ KB\n"
     ]
    }
   ],
   "source": [
    "df_mod_filter_2.info()"
   ]
  },
  {
   "cell_type": "code",
   "execution_count": 56,
   "id": "895ccf4b",
   "metadata": {},
   "outputs": [],
   "source": [
    "df_mod_filter_2['data_lancamento'] = pd.to_datetime(df_mod_filter_2['data_lancamento'])\n",
    "\n",
    "min_date = df_mod_filter_2['data_lancamento'].min()\n",
    "df_mod_filter_2['dias_desde_lancamento'] = (df_mod_filter_2['data_lancamento'] - min_date).dt.days"
   ]
  },
  {
   "cell_type": "code",
   "execution_count": 57,
   "id": "6768c00c",
   "metadata": {},
   "outputs": [
    {
     "data": {
      "text/html": [
       "<div>\n",
       "<style scoped>\n",
       "    .dataframe tbody tr th:only-of-type {\n",
       "        vertical-align: middle;\n",
       "    }\n",
       "\n",
       "    .dataframe tbody tr th {\n",
       "        vertical-align: top;\n",
       "    }\n",
       "\n",
       "    .dataframe thead th {\n",
       "        text-align: right;\n",
       "    }\n",
       "</style>\n",
       "<table border=\"1\" class=\"dataframe\">\n",
       "  <thead>\n",
       "    <tr style=\"text-align: right;\">\n",
       "      <th></th>\n",
       "      <th>id</th>\n",
       "      <th>data_lancamento</th>\n",
       "      <th>conta_debito</th>\n",
       "      <th>conta_credito</th>\n",
       "      <th>valor</th>\n",
       "      <th>documento</th>\n",
       "      <th>natureza_operacao</th>\n",
       "      <th>centro_custo</th>\n",
       "      <th>impostos</th>\n",
       "      <th>moeda</th>\n",
       "      <th>taxa_conversao</th>\n",
       "      <th>dias_desde_lancamento</th>\n",
       "    </tr>\n",
       "  </thead>\n",
       "  <tbody>\n",
       "    <tr>\n",
       "      <th>0</th>\n",
       "      <td>1</td>\n",
       "      <td>2022-02-27</td>\n",
       "      <td>DWAVRL</td>\n",
       "      <td>CIOVQ6</td>\n",
       "      <td>5533.25</td>\n",
       "      <td>DOCPAXGQ</td>\n",
       "      <td>OP7JDVK</td>\n",
       "      <td>CC5FYA2</td>\n",
       "      <td>444.13252</td>\n",
       "      <td>BRL</td>\n",
       "      <td>3.475606</td>\n",
       "      <td>788</td>\n",
       "    </tr>\n",
       "    <tr>\n",
       "      <th>1</th>\n",
       "      <td>2</td>\n",
       "      <td>2022-05-11</td>\n",
       "      <td>D8TF53</td>\n",
       "      <td>CV9Y0V</td>\n",
       "      <td>7180.37</td>\n",
       "      <td>DOCBXZXG</td>\n",
       "      <td>OPXSY64</td>\n",
       "      <td>CCLH4R9</td>\n",
       "      <td>471.09236</td>\n",
       "      <td>EUR</td>\n",
       "      <td>3.523287</td>\n",
       "      <td>861</td>\n",
       "    </tr>\n",
       "    <tr>\n",
       "      <th>2</th>\n",
       "      <td>3</td>\n",
       "      <td>2020-03-23</td>\n",
       "      <td>D0TZCE</td>\n",
       "      <td>CELQSH</td>\n",
       "      <td>6067.36</td>\n",
       "      <td>DOCF5ITC</td>\n",
       "      <td>OPTDE9B</td>\n",
       "      <td>CCDG8CJ</td>\n",
       "      <td>326.49988</td>\n",
       "      <td>JPY</td>\n",
       "      <td>3.523287</td>\n",
       "      <td>82</td>\n",
       "    </tr>\n",
       "    <tr>\n",
       "      <th>3</th>\n",
       "      <td>4</td>\n",
       "      <td>2021-06-14</td>\n",
       "      <td>DOGLK7</td>\n",
       "      <td>CDFEMS</td>\n",
       "      <td>5494.34</td>\n",
       "      <td>DOCZRS1U</td>\n",
       "      <td>OP62LG1</td>\n",
       "      <td>CC98G2K</td>\n",
       "      <td>471.09236</td>\n",
       "      <td>JPY</td>\n",
       "      <td>3.523287</td>\n",
       "      <td>530</td>\n",
       "    </tr>\n",
       "    <tr>\n",
       "      <th>4</th>\n",
       "      <td>5</td>\n",
       "      <td>2022-11-13</td>\n",
       "      <td>DHL0I5</td>\n",
       "      <td>CRU97G</td>\n",
       "      <td>4294.18</td>\n",
       "      <td>Other</td>\n",
       "      <td>OP62LG1</td>\n",
       "      <td>CCZD80Y</td>\n",
       "      <td>154.26398</td>\n",
       "      <td>EUR</td>\n",
       "      <td>3.523287</td>\n",
       "      <td>1047</td>\n",
       "    </tr>\n",
       "  </tbody>\n",
       "</table>\n",
       "</div>"
      ],
      "text/plain": [
       "   id data_lancamento conta_debito conta_credito    valor documento  \\\n",
       "0   1      2022-02-27       DWAVRL        CIOVQ6  5533.25  DOCPAXGQ   \n",
       "1   2      2022-05-11       D8TF53        CV9Y0V  7180.37  DOCBXZXG   \n",
       "2   3      2020-03-23       D0TZCE        CELQSH  6067.36  DOCF5ITC   \n",
       "3   4      2021-06-14       DOGLK7        CDFEMS  5494.34  DOCZRS1U   \n",
       "4   5      2022-11-13       DHL0I5        CRU97G  4294.18     Other   \n",
       "\n",
       "  natureza_operacao centro_custo   impostos moeda taxa_conversao  \\\n",
       "0           OP7JDVK      CC5FYA2  444.13252   BRL       3.475606   \n",
       "1           OPXSY64      CCLH4R9  471.09236   EUR       3.523287   \n",
       "2           OPTDE9B      CCDG8CJ  326.49988   JPY       3.523287   \n",
       "3           OP62LG1      CC98G2K  471.09236   JPY       3.523287   \n",
       "4           OP62LG1      CCZD80Y  154.26398   EUR       3.523287   \n",
       "\n",
       "   dias_desde_lancamento  \n",
       "0                    788  \n",
       "1                    861  \n",
       "2                     82  \n",
       "3                    530  \n",
       "4                   1047  "
      ]
     },
     "execution_count": 57,
     "metadata": {},
     "output_type": "execute_result"
    }
   ],
   "source": [
    "df_mod_filter_2.head()"
   ]
  },
  {
   "cell_type": "code",
   "execution_count": 58,
   "id": "699046cc",
   "metadata": {},
   "outputs": [
    {
     "data": {
      "image/png": "[encoded data removed]",
      "text/plain": [
       "<Figure size 576x432 with 2 Axes>"
      ]
     },
     "metadata": {},
     "output_type": "display_data"
    }
   ],
   "source": [
    "correlation_matrix = df_mod_filter_2[['valor', 'dias_desde_lancamento']].corr()\n",
    "\n",
    "plt.figure(figsize = (8, 6))\n",
    "sns.heatmap(correlation_matrix, annot = True, cmap = 'coolwarm', fmt = \".2f\")\n",
    "plt.title(\"Correlation Heatmap\")\n",
    "plt.show()"
   ]
  },
  {
   "cell_type": "code",
   "execution_count": 59,
   "id": "0df3bb97",
   "metadata": {},
   "outputs": [
    {
     "data": {
      "image/png": "[encoded data removed]",
      "text/plain": [
       "<Figure size 720x432 with 1 Axes>"
      ]
     },
     "metadata": {},
     "output_type": "display_data"
    }
   ],
   "source": [
    "plt.figure(figsize = (10, 6))\n",
    "sns.scatterplot(x = 'valor', y = 'impostos', data = df_mod_filter_2)\n",
    "plt.title('Launch Value x Taxes')\n",
    "plt.xlabel('Values')\n",
    "plt.ylabel('Tax')\n",
    "plt.show()"
   ]
  },
  {
   "cell_type": "code",
   "execution_count": 60,
   "id": "2d3f017d",
   "metadata": {},
   "outputs": [
    {
     "name": "stdout",
     "output_type": "stream",
     "text": [
      "<class 'pandas.core.frame.DataFrame'>\n",
      "Int64Index: 1097 entries, 0 to 1199\n",
      "Data columns (total 12 columns):\n",
      " #   Column                 Non-Null Count  Dtype         \n",
      "---  ------                 --------------  -----         \n",
      " 0   id                     1097 non-null   int64         \n",
      " 1   data_lancamento        1097 non-null   datetime64[ns]\n",
      " 2   conta_debito           1097 non-null   object        \n",
      " 3   conta_credito          1097 non-null   object        \n",
      " 4   valor                  1097 non-null   float64       \n",
      " 5   documento              1097 non-null   object        \n",
      " 6   natureza_operacao      1097 non-null   object        \n",
      " 7   centro_custo           1097 non-null   object        \n",
      " 8   impostos               1097 non-null   float64       \n",
      " 9   moeda                  1097 non-null   object        \n",
      " 10  taxa_conversao         1097 non-null   object        \n",
      " 11  dias_desde_lancamento  1097 non-null   int64         \n",
      "dtypes: datetime64[ns](1), float64(2), int64(2), object(7)\n",
      "memory usage: 111.4+ KB\n"
     ]
    }
   ],
   "source": [
    "df_mod_filter_2.info()"
   ]
  },
  {
   "cell_type": "code",
   "execution_count": 62,
   "id": "8dc997c9",
   "metadata": {},
   "outputs": [
    {
     "data": {
      "image/png": "[encoded data removed]",
      "text/plain": [
       "<Figure size 864x432 with 1 Axes>"
      ]
     },
     "metadata": {},
     "output_type": "display_data"
    }
   ],
   "source": [
    "plt.figure(figsize = (12, 6))\n",
    "sns.boxplot(x = 'moeda', y = 'valor', data = df_mod_filter_2)\n",
    "plt.title('Value Distribution By Currency')\n",
    "plt.xlabel('Coin')\n",
    "plt.ylabel('Value')\n",
    "plt.show()"
   ]
  },
  {
   "cell_type": "code",
   "execution_count": 63,
   "id": "7a332e0b",
   "metadata": {},
   "outputs": [
    {
     "name": "stdout",
     "output_type": "stream",
     "text": [
      "Author: Juliana Santimaria\n",
      "\n"
     ]
    }
   ],
   "source": [
    "%watermark -a \"Juliana Santimaria\""
   ]
  },
  {
   "cell_type": "code",
   "execution_count": 64,
   "id": "0e971258",
   "metadata": {},
   "outputs": [],
   "source": [
    "#%watermark -v -m"
   ]
  },
  {
   "cell_type": "code",
   "execution_count": 65,
   "id": "06be245d",
   "metadata": {},
   "outputs": [],
   "source": [
    "#%watermark --iversions"
   ]
  }
 ],
 "metadata": {
  "kernelspec": {
   "display_name": "Python 3 (ipykernel)",
   "language": "python",
   "name": "python3"
  },
  "language_info": {
   "codemirror_mode": {
    "name": "ipython",
    "version": 3
   },
   "file_extension": ".py",
   "mimetype": "text/x-python",
   "name": "python",
   "nbconvert_exporter": "python",
   "pygments_lexer": "ipython3",
   "version": "3.9.12"
  }
 },
 "nbformat": 4,
 "nbformat_minor": 5
}
