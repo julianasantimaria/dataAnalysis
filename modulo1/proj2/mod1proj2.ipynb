{
 "cells": [
  {
   "cell_type": "code",
   "execution_count": 1,
   "id": "d123c0e6",
   "metadata": {},
   "outputs": [
    {
     "name": "stdout",
     "output_type": "stream",
     "text": [
      "\r\n",
      "\u001b[1m[\u001b[0m\u001b[34;49mnotice\u001b[0m\u001b[1;39;49m]\u001b[0m\u001b[39;49m A new release of pip is available: \u001b[0m\u001b[31;49m23.3.1\u001b[0m\u001b[39;49m -> \u001b[0m\u001b[32;49m24.0\u001b[0m\r\n",
      "\u001b[1m[\u001b[0m\u001b[34;49mnotice\u001b[0m\u001b[1;39;49m]\u001b[0m\u001b[39;49m To update, run: \u001b[0m\u001b[32;49mpip install --upgrade pip\u001b[0m\r\n"
     ]
    }
   ],
   "source": [
    "!pip install -q -U watermark"
   ]
  },
  {
   "cell_type": "code",
   "execution_count": 2,
   "id": "01a1662e",
   "metadata": {},
   "outputs": [
    {
     "name": "stdout",
     "output_type": "stream",
     "text": [
      "\r\n",
      "\u001b[1m[\u001b[0m\u001b[34;49mnotice\u001b[0m\u001b[1;39;49m]\u001b[0m\u001b[39;49m A new release of pip is available: \u001b[0m\u001b[31;49m23.3.1\u001b[0m\u001b[39;49m -> \u001b[0m\u001b[32;49m24.0\u001b[0m\r\n",
      "\u001b[1m[\u001b[0m\u001b[34;49mnotice\u001b[0m\u001b[1;39;49m]\u001b[0m\u001b[39;49m To update, run: \u001b[0m\u001b[32;49mpip install --upgrade pip\u001b[0m\r\n"
     ]
    }
   ],
   "source": [
    "!pip install -q missingno"
   ]
  },
  {
   "cell_type": "code",
   "execution_count": 3,
   "id": "a4313999",
   "metadata": {},
   "outputs": [
    {
     "name": "stdout",
     "output_type": "stream",
     "text": [
      "Requirement already satisfied: missingno in /Users/julianasantimaria/opt/anaconda3/lib/python3.9/site-packages (0.5.2)\n",
      "Requirement already satisfied: matplotlib in /Users/julianasantimaria/opt/anaconda3/lib/python3.9/site-packages (from missingno) (3.5.1)\n",
      "Requirement already satisfied: seaborn in /Users/julianasantimaria/opt/anaconda3/lib/python3.9/site-packages (from missingno) (0.11.2)\n",
      "Requirement already satisfied: numpy in /Users/julianasantimaria/opt/anaconda3/lib/python3.9/site-packages (from missingno) (1.21.5)\n",
      "Requirement already satisfied: scipy in /Users/julianasantimaria/opt/anaconda3/lib/python3.9/site-packages (from missingno) (1.7.3)\n",
      "Requirement already satisfied: kiwisolver>=1.0.1 in /Users/julianasantimaria/opt/anaconda3/lib/python3.9/site-packages (from matplotlib->missingno) (1.3.2)\n",
      "Requirement already satisfied: pyparsing>=2.2.1 in /Users/julianasantimaria/opt/anaconda3/lib/python3.9/site-packages (from matplotlib->missingno) (3.0.4)\n",
      "Requirement already satisfied: cycler>=0.10 in /Users/julianasantimaria/opt/anaconda3/lib/python3.9/site-packages (from matplotlib->missingno) (0.11.0)\n",
      "Requirement already satisfied: packaging>=20.0 in /Users/julianasantimaria/opt/anaconda3/lib/python3.9/site-packages (from matplotlib->missingno) (21.3)\n",
      "Requirement already satisfied: pillow>=6.2.0 in /Users/julianasantimaria/opt/anaconda3/lib/python3.9/site-packages (from matplotlib->missingno) (9.0.1)\n",
      "Requirement already satisfied: fonttools>=4.22.0 in /Users/julianasantimaria/opt/anaconda3/lib/python3.9/site-packages (from matplotlib->missingno) (4.25.0)\n",
      "Requirement already satisfied: python-dateutil>=2.7 in /Users/julianasantimaria/opt/anaconda3/lib/python3.9/site-packages (from matplotlib->missingno) (2.8.2)\n",
      "Requirement already satisfied: six>=1.5 in /Users/julianasantimaria/opt/anaconda3/lib/python3.9/site-packages (from python-dateutil>=2.7->matplotlib->missingno) (1.16.0)\n",
      "Requirement already satisfied: pandas>=0.23 in /Users/julianasantimaria/opt/anaconda3/lib/python3.9/site-packages (from seaborn->missingno) (1.4.2)\n",
      "Requirement already satisfied: pytz>=2020.1 in /Users/julianasantimaria/opt/anaconda3/lib/python3.9/site-packages (from pandas>=0.23->seaborn->missingno) (2021.3)\n",
      "Note: you may need to restart the kernel to use updated packages.\n"
     ]
    }
   ],
   "source": [
    "pip install missingno"
   ]
  },
  {
   "cell_type": "code",
   "execution_count": 4,
   "id": "a57cd4b5",
   "metadata": {},
   "outputs": [],
   "source": [
    "import pandas as pd\n",
    "import numpy as np\n",
    "import matplotlib.pyplot as plt\n",
    "import seaborn as sns\n",
    "import missingno as msno"
   ]
  },
  {
   "cell_type": "code",
   "execution_count": 5,
   "id": "47e60c47",
   "metadata": {},
   "outputs": [
    {
     "name": "stdout",
     "output_type": "stream",
     "text": [
      "Author: Juliana Santimaria\n",
      "\n"
     ]
    }
   ],
   "source": [
    "%reload_ext watermark\n",
    "%watermark -a \"Juliana Santimaria\""
   ]
  },
  {
   "cell_type": "code",
   "execution_count": 6,
   "id": "6c8d185e",
   "metadata": {},
   "outputs": [],
   "source": [
    "df_mod = pd.read_csv(\"dataset.csv\")"
   ]
  },
  {
   "cell_type": "code",
   "execution_count": 7,
   "id": "a37374b4",
   "metadata": {},
   "outputs": [
    {
     "data": {
      "text/plain": [
       "pandas.core.frame.DataFrame"
      ]
     },
     "execution_count": 7,
     "metadata": {},
     "output_type": "execute_result"
    }
   ],
   "source": [
    "type(df_mod)"
   ]
  },
  {
   "cell_type": "code",
   "execution_count": 8,
   "id": "ab4ef761",
   "metadata": {},
   "outputs": [
    {
     "data": {
      "text/plain": [
       "(500, 5)"
      ]
     },
     "execution_count": 8,
     "metadata": {},
     "output_type": "execute_result"
    }
   ],
   "source": [
    "df_mod.shape"
   ]
  },
  {
   "cell_type": "code",
   "execution_count": 9,
   "id": "c03a6c89",
   "metadata": {},
   "outputs": [
    {
     "data": {
      "text/plain": [
       "Index(['Idade', 'Salario', 'Genero', 'Escolaridade',\n",
       "       'Score_Exame_Psicotecnico'],\n",
       "      dtype='object')"
      ]
     },
     "execution_count": 9,
     "metadata": {},
     "output_type": "execute_result"
    }
   ],
   "source": [
    "df_mod.columns"
   ]
  },
  {
   "cell_type": "code",
   "execution_count": 10,
   "id": "0500cee4",
   "metadata": {},
   "outputs": [
    {
     "data": {
      "text/html": [
       "<div>\n",
       "<style scoped>\n",
       "    .dataframe tbody tr th:only-of-type {\n",
       "        vertical-align: middle;\n",
       "    }\n",
       "\n",
       "    .dataframe tbody tr th {\n",
       "        vertical-align: top;\n",
       "    }\n",
       "\n",
       "    .dataframe thead th {\n",
       "        text-align: right;\n",
       "    }\n",
       "</style>\n",
       "<table border=\"1\" class=\"dataframe\">\n",
       "  <thead>\n",
       "    <tr style=\"text-align: right;\">\n",
       "      <th></th>\n",
       "      <th>Idade</th>\n",
       "      <th>Salario</th>\n",
       "      <th>Genero</th>\n",
       "      <th>Escolaridade</th>\n",
       "      <th>Score_Exame_Psicotecnico</th>\n",
       "    </tr>\n",
       "  </thead>\n",
       "  <tbody>\n",
       "    <tr>\n",
       "      <th>0</th>\n",
       "      <td>58</td>\n",
       "      <td>30404.959339</td>\n",
       "      <td>Masculino</td>\n",
       "      <td>Médio</td>\n",
       "      <td>56.0</td>\n",
       "    </tr>\n",
       "    <tr>\n",
       "      <th>1</th>\n",
       "      <td>48</td>\n",
       "      <td>20886.502401</td>\n",
       "      <td>Feminino</td>\n",
       "      <td>Médio</td>\n",
       "      <td>NaN</td>\n",
       "    </tr>\n",
       "    <tr>\n",
       "      <th>2</th>\n",
       "      <td>34</td>\n",
       "      <td>15959.388748</td>\n",
       "      <td>Masculino</td>\n",
       "      <td>Médio</td>\n",
       "      <td>57.0</td>\n",
       "    </tr>\n",
       "    <tr>\n",
       "      <th>3</th>\n",
       "      <td>62</td>\n",
       "      <td>28534.995327</td>\n",
       "      <td>Outro</td>\n",
       "      <td>Superior</td>\n",
       "      <td>68.0</td>\n",
       "    </tr>\n",
       "    <tr>\n",
       "      <th>4</th>\n",
       "      <td>27</td>\n",
       "      <td>10553.176215</td>\n",
       "      <td>Outro</td>\n",
       "      <td>Fundamental</td>\n",
       "      <td>44.0</td>\n",
       "    </tr>\n",
       "  </tbody>\n",
       "</table>\n",
       "</div>"
      ],
      "text/plain": [
       "   Idade       Salario     Genero Escolaridade  Score_Exame_Psicotecnico\n",
       "0     58  30404.959339  Masculino        Médio                      56.0\n",
       "1     48  20886.502401   Feminino        Médio                       NaN\n",
       "2     34  15959.388748  Masculino        Médio                      57.0\n",
       "3     62  28534.995327      Outro     Superior                      68.0\n",
       "4     27  10553.176215      Outro  Fundamental                      44.0"
      ]
     },
     "execution_count": 10,
     "metadata": {},
     "output_type": "execute_result"
    }
   ],
   "source": [
    "df_mod.head()"
   ]
  },
  {
   "cell_type": "code",
   "execution_count": 11,
   "id": "8a3a5c78",
   "metadata": {},
   "outputs": [
    {
     "data": {
      "text/html": [
       "<div>\n",
       "<style scoped>\n",
       "    .dataframe tbody tr th:only-of-type {\n",
       "        vertical-align: middle;\n",
       "    }\n",
       "\n",
       "    .dataframe tbody tr th {\n",
       "        vertical-align: top;\n",
       "    }\n",
       "\n",
       "    .dataframe thead th {\n",
       "        text-align: right;\n",
       "    }\n",
       "</style>\n",
       "<table border=\"1\" class=\"dataframe\">\n",
       "  <thead>\n",
       "    <tr style=\"text-align: right;\">\n",
       "      <th></th>\n",
       "      <th>Idade</th>\n",
       "      <th>Salario</th>\n",
       "      <th>Genero</th>\n",
       "      <th>Escolaridade</th>\n",
       "      <th>Score_Exame_Psicotecnico</th>\n",
       "    </tr>\n",
       "  </thead>\n",
       "  <tbody>\n",
       "    <tr>\n",
       "      <th>344</th>\n",
       "      <td>42</td>\n",
       "      <td>NaN</td>\n",
       "      <td>Feminino</td>\n",
       "      <td>Médio</td>\n",
       "      <td>43.0</td>\n",
       "    </tr>\n",
       "    <tr>\n",
       "      <th>150</th>\n",
       "      <td>34</td>\n",
       "      <td>8483.087803</td>\n",
       "      <td>Outro</td>\n",
       "      <td>Médio</td>\n",
       "      <td>66.0</td>\n",
       "    </tr>\n",
       "    <tr>\n",
       "      <th>422</th>\n",
       "      <td>47</td>\n",
       "      <td>24555.087336</td>\n",
       "      <td>Feminino</td>\n",
       "      <td>Médio</td>\n",
       "      <td>59.0</td>\n",
       "    </tr>\n",
       "    <tr>\n",
       "      <th>77</th>\n",
       "      <td>40</td>\n",
       "      <td>17993.897641</td>\n",
       "      <td>Masculino</td>\n",
       "      <td>Médio</td>\n",
       "      <td>41.0</td>\n",
       "    </tr>\n",
       "    <tr>\n",
       "      <th>300</th>\n",
       "      <td>27</td>\n",
       "      <td>17651.679083</td>\n",
       "      <td>Feminino</td>\n",
       "      <td>Fundamental</td>\n",
       "      <td>44.0</td>\n",
       "    </tr>\n",
       "    <tr>\n",
       "      <th>313</th>\n",
       "      <td>27</td>\n",
       "      <td>8889.173379</td>\n",
       "      <td>Outro</td>\n",
       "      <td>Fundamental</td>\n",
       "      <td>29.0</td>\n",
       "    </tr>\n",
       "    <tr>\n",
       "      <th>463</th>\n",
       "      <td>49</td>\n",
       "      <td>17741.576972</td>\n",
       "      <td>Feminino</td>\n",
       "      <td>Médio</td>\n",
       "      <td>77.0</td>\n",
       "    </tr>\n",
       "    <tr>\n",
       "      <th>295</th>\n",
       "      <td>23</td>\n",
       "      <td>22853.464289</td>\n",
       "      <td>Masculino</td>\n",
       "      <td>Superior</td>\n",
       "      <td>100.0</td>\n",
       "    </tr>\n",
       "    <tr>\n",
       "      <th>452</th>\n",
       "      <td>49</td>\n",
       "      <td>15295.628843</td>\n",
       "      <td>Feminino</td>\n",
       "      <td>Superior</td>\n",
       "      <td>67.0</td>\n",
       "    </tr>\n",
       "    <tr>\n",
       "      <th>61</th>\n",
       "      <td>61</td>\n",
       "      <td>29432.764241</td>\n",
       "      <td>Feminino</td>\n",
       "      <td>Superior</td>\n",
       "      <td>67.0</td>\n",
       "    </tr>\n",
       "  </tbody>\n",
       "</table>\n",
       "</div>"
      ],
      "text/plain": [
       "     Idade       Salario     Genero Escolaridade  Score_Exame_Psicotecnico\n",
       "344     42           NaN   Feminino        Médio                      43.0\n",
       "150     34   8483.087803      Outro        Médio                      66.0\n",
       "422     47  24555.087336   Feminino        Médio                      59.0\n",
       "77      40  17993.897641  Masculino        Médio                      41.0\n",
       "300     27  17651.679083   Feminino  Fundamental                      44.0\n",
       "313     27   8889.173379      Outro  Fundamental                      29.0\n",
       "463     49  17741.576972   Feminino        Médio                      77.0\n",
       "295     23  22853.464289  Masculino     Superior                     100.0\n",
       "452     49  15295.628843   Feminino     Superior                      67.0\n",
       "61      61  29432.764241   Feminino     Superior                      67.0"
      ]
     },
     "execution_count": 11,
     "metadata": {},
     "output_type": "execute_result"
    }
   ],
   "source": [
    "df_mod.sample(10)"
   ]
  },
  {
   "cell_type": "code",
   "execution_count": 12,
   "id": "7edd59d9",
   "metadata": {},
   "outputs": [
    {
     "name": "stdout",
     "output_type": "stream",
     "text": [
      "<class 'pandas.core.frame.DataFrame'>\n",
      "RangeIndex: 500 entries, 0 to 499\n",
      "Data columns (total 5 columns):\n",
      " #   Column                    Non-Null Count  Dtype  \n",
      "---  ------                    --------------  -----  \n",
      " 0   Idade                     500 non-null    int64  \n",
      " 1   Salario                   450 non-null    float64\n",
      " 2   Genero                    500 non-null    object \n",
      " 3   Escolaridade              500 non-null    object \n",
      " 4   Score_Exame_Psicotecnico  470 non-null    float64\n",
      "dtypes: float64(2), int64(1), object(2)\n",
      "memory usage: 19.7+ KB\n"
     ]
    }
   ],
   "source": [
    "df_mod.info()"
   ]
  },
  {
   "cell_type": "code",
   "execution_count": 13,
   "id": "71bc3b67",
   "metadata": {},
   "outputs": [
    {
     "data": {
      "text/html": [
       "<div>\n",
       "<style scoped>\n",
       "    .dataframe tbody tr th:only-of-type {\n",
       "        vertical-align: middle;\n",
       "    }\n",
       "\n",
       "    .dataframe tbody tr th {\n",
       "        vertical-align: top;\n",
       "    }\n",
       "\n",
       "    .dataframe thead th {\n",
       "        text-align: right;\n",
       "    }\n",
       "</style>\n",
       "<table border=\"1\" class=\"dataframe\">\n",
       "  <thead>\n",
       "    <tr style=\"text-align: right;\">\n",
       "      <th></th>\n",
       "      <th>Genero</th>\n",
       "      <th>Escolaridade</th>\n",
       "    </tr>\n",
       "  </thead>\n",
       "  <tbody>\n",
       "    <tr>\n",
       "      <th>count</th>\n",
       "      <td>500</td>\n",
       "      <td>500</td>\n",
       "    </tr>\n",
       "    <tr>\n",
       "      <th>unique</th>\n",
       "      <td>3</td>\n",
       "      <td>3</td>\n",
       "    </tr>\n",
       "    <tr>\n",
       "      <th>top</th>\n",
       "      <td>Feminino</td>\n",
       "      <td>Médio</td>\n",
       "    </tr>\n",
       "    <tr>\n",
       "      <th>freq</th>\n",
       "      <td>169</td>\n",
       "      <td>274</td>\n",
       "    </tr>\n",
       "  </tbody>\n",
       "</table>\n",
       "</div>"
      ],
      "text/plain": [
       "          Genero Escolaridade\n",
       "count        500          500\n",
       "unique         3            3\n",
       "top     Feminino        Médio\n",
       "freq         169          274"
      ]
     },
     "execution_count": 13,
     "metadata": {},
     "output_type": "execute_result"
    }
   ],
   "source": [
    "df_mod.describe(include = object)"
   ]
  },
  {
   "cell_type": "code",
   "execution_count": 14,
   "id": "77fcb763",
   "metadata": {},
   "outputs": [
    {
     "data": {
      "text/html": [
       "<div>\n",
       "<style scoped>\n",
       "    .dataframe tbody tr th:only-of-type {\n",
       "        vertical-align: middle;\n",
       "    }\n",
       "\n",
       "    .dataframe tbody tr th {\n",
       "        vertical-align: top;\n",
       "    }\n",
       "\n",
       "    .dataframe thead th {\n",
       "        text-align: right;\n",
       "    }\n",
       "</style>\n",
       "<table border=\"1\" class=\"dataframe\">\n",
       "  <thead>\n",
       "    <tr style=\"text-align: right;\">\n",
       "      <th></th>\n",
       "      <th>Idade</th>\n",
       "      <th>Salario</th>\n",
       "      <th>Score_Exame_Psicotecnico</th>\n",
       "    </tr>\n",
       "  </thead>\n",
       "  <tbody>\n",
       "    <tr>\n",
       "      <th>count</th>\n",
       "      <td>500.000000</td>\n",
       "      <td>450.000000</td>\n",
       "      <td>470.000000</td>\n",
       "    </tr>\n",
       "    <tr>\n",
       "      <th>mean</th>\n",
       "      <td>42.848000</td>\n",
       "      <td>21252.781137</td>\n",
       "      <td>61.565957</td>\n",
       "    </tr>\n",
       "    <tr>\n",
       "      <th>std</th>\n",
       "      <td>13.189725</td>\n",
       "      <td>8322.933018</td>\n",
       "      <td>17.662523</td>\n",
       "    </tr>\n",
       "    <tr>\n",
       "      <th>min</th>\n",
       "      <td>20.000000</td>\n",
       "      <td>-3254.849042</td>\n",
       "      <td>20.000000</td>\n",
       "    </tr>\n",
       "    <tr>\n",
       "      <th>25%</th>\n",
       "      <td>31.750000</td>\n",
       "      <td>15139.019963</td>\n",
       "      <td>48.000000</td>\n",
       "    </tr>\n",
       "    <tr>\n",
       "      <th>50%</th>\n",
       "      <td>44.000000</td>\n",
       "      <td>21681.102602</td>\n",
       "      <td>61.000000</td>\n",
       "    </tr>\n",
       "    <tr>\n",
       "      <th>75%</th>\n",
       "      <td>54.000000</td>\n",
       "      <td>27379.540314</td>\n",
       "      <td>74.000000</td>\n",
       "    </tr>\n",
       "    <tr>\n",
       "      <th>max</th>\n",
       "      <td>65.000000</td>\n",
       "      <td>40845.107626</td>\n",
       "      <td>100.000000</td>\n",
       "    </tr>\n",
       "  </tbody>\n",
       "</table>\n",
       "</div>"
      ],
      "text/plain": [
       "            Idade       Salario  Score_Exame_Psicotecnico\n",
       "count  500.000000    450.000000                470.000000\n",
       "mean    42.848000  21252.781137                 61.565957\n",
       "std     13.189725   8322.933018                 17.662523\n",
       "min     20.000000  -3254.849042                 20.000000\n",
       "25%     31.750000  15139.019963                 48.000000\n",
       "50%     44.000000  21681.102602                 61.000000\n",
       "75%     54.000000  27379.540314                 74.000000\n",
       "max     65.000000  40845.107626                100.000000"
      ]
     },
     "execution_count": 14,
     "metadata": {},
     "output_type": "execute_result"
    }
   ],
   "source": [
    "df_mod.describe()"
   ]
  },
  {
   "cell_type": "code",
   "execution_count": 15,
   "id": "1995e3da",
   "metadata": {},
   "outputs": [
    {
     "data": {
      "text/html": [
       "<div>\n",
       "<style scoped>\n",
       "    .dataframe tbody tr th:only-of-type {\n",
       "        vertical-align: middle;\n",
       "    }\n",
       "\n",
       "    .dataframe tbody tr th {\n",
       "        vertical-align: top;\n",
       "    }\n",
       "\n",
       "    .dataframe thead th {\n",
       "        text-align: right;\n",
       "    }\n",
       "</style>\n",
       "<table border=\"1\" class=\"dataframe\">\n",
       "  <thead>\n",
       "    <tr style=\"text-align: right;\">\n",
       "      <th></th>\n",
       "      <th>Idade</th>\n",
       "      <th>Salario</th>\n",
       "      <th>Genero</th>\n",
       "      <th>Escolaridade</th>\n",
       "      <th>Score_Exame_Psicotecnico</th>\n",
       "    </tr>\n",
       "  </thead>\n",
       "  <tbody>\n",
       "    <tr>\n",
       "      <th>0</th>\n",
       "      <td>58</td>\n",
       "      <td>30404.959339</td>\n",
       "      <td>Masculino</td>\n",
       "      <td>Médio</td>\n",
       "      <td>56.0</td>\n",
       "    </tr>\n",
       "    <tr>\n",
       "      <th>1</th>\n",
       "      <td>48</td>\n",
       "      <td>20886.502401</td>\n",
       "      <td>Feminino</td>\n",
       "      <td>Médio</td>\n",
       "      <td>NaN</td>\n",
       "    </tr>\n",
       "    <tr>\n",
       "      <th>2</th>\n",
       "      <td>34</td>\n",
       "      <td>15959.388748</td>\n",
       "      <td>Masculino</td>\n",
       "      <td>Médio</td>\n",
       "      <td>57.0</td>\n",
       "    </tr>\n",
       "    <tr>\n",
       "      <th>3</th>\n",
       "      <td>62</td>\n",
       "      <td>28534.995327</td>\n",
       "      <td>Outro</td>\n",
       "      <td>Superior</td>\n",
       "      <td>68.0</td>\n",
       "    </tr>\n",
       "    <tr>\n",
       "      <th>4</th>\n",
       "      <td>27</td>\n",
       "      <td>10553.176215</td>\n",
       "      <td>Outro</td>\n",
       "      <td>Fundamental</td>\n",
       "      <td>44.0</td>\n",
       "    </tr>\n",
       "  </tbody>\n",
       "</table>\n",
       "</div>"
      ],
      "text/plain": [
       "   Idade       Salario     Genero Escolaridade  Score_Exame_Psicotecnico\n",
       "0     58  30404.959339  Masculino        Médio                      56.0\n",
       "1     48  20886.502401   Feminino        Médio                       NaN\n",
       "2     34  15959.388748  Masculino        Médio                      57.0\n",
       "3     62  28534.995327      Outro     Superior                      68.0\n",
       "4     27  10553.176215      Outro  Fundamental                      44.0"
      ]
     },
     "execution_count": 15,
     "metadata": {},
     "output_type": "execute_result"
    }
   ],
   "source": [
    "df_mod.head()"
   ]
  },
  {
   "cell_type": "code",
   "execution_count": 16,
   "id": "08e899a9",
   "metadata": {
    "scrolled": true
   },
   "outputs": [],
   "source": [
    "columns_select = [list(df_mod.columns.values)[i] for i in [0, 1, 4]]"
   ]
  },
  {
   "cell_type": "code",
   "execution_count": 17,
   "id": "24712cb6",
   "metadata": {},
   "outputs": [
    {
     "data": {
      "text/plain": [
       "['Idade', 'Salario', 'Score_Exame_Psicotecnico']"
      ]
     },
     "execution_count": 17,
     "metadata": {},
     "output_type": "execute_result"
    }
   ],
   "source": [
    "columns_select"
   ]
  },
  {
   "cell_type": "code",
   "execution_count": 18,
   "id": "cf37958c",
   "metadata": {},
   "outputs": [
    {
     "data": {
      "image/png": "[encoded data removed]",
      "text/plain": [
       "<Figure size 576x432 with 1 Axes>"
      ]
     },
     "metadata": {
      "needs_background": "light"
     },
     "output_type": "display_data"
    }
   ],
   "source": [
    "plt.figure(figsize = (8, 6))\n",
    "sns.histplot(df_mod['Idade'], kde = True)\n",
    "plt.title('Age Distribution')\n",
    "plt.xlabel('Age')\n",
    "plt.ylabel('Score')\n",
    "plt.show()"
   ]
  },
  {
   "cell_type": "code",
   "execution_count": 19,
   "id": "a57cc099",
   "metadata": {},
   "outputs": [
    {
     "data": {
      "image/png": "[encoded data removed]",
      "text/plain": [
       "<Figure size 576x432 with 1 Axes>"
      ]
     },
     "metadata": {
      "needs_background": "light"
     },
     "output_type": "display_data"
    }
   ],
   "source": [
    "plt.figure(figsize = (8, 6))\n",
    "sns.histplot(df_mod['Salario'], kde = True)\n",
    "plt.title('Salary Distribution')\n",
    "plt.xlabel('Salary')\n",
    "plt.ylabel('Score')\n",
    "plt.show()"
   ]
  },
  {
   "cell_type": "code",
   "execution_count": 20,
   "id": "c5bd895c",
   "metadata": {},
   "outputs": [
    {
     "data": {
      "image/png": "[encoded data removed]",
      "text/plain": [
       "<Figure size 576x432 with 1 Axes>"
      ]
     },
     "metadata": {
      "needs_background": "light"
     },
     "output_type": "display_data"
    }
   ],
   "source": [
    "plt.figure(figsize = (8, 6))\n",
    "sns.histplot(df_mod['Score_Exame_Psicotecnico'], kde = True)\n",
    "plt.title('Exams Distribution')\n",
    "plt.xlabel('Exams')\n",
    "plt.ylabel('Score')\n",
    "plt.show()"
   ]
  },
  {
   "cell_type": "code",
   "execution_count": 21,
   "id": "ab0dd683",
   "metadata": {},
   "outputs": [
    {
     "data": {
      "image/png": "[encoded data removed]",
      "text/plain": [
       "<Figure size 576x432 with 1 Axes>"
      ]
     },
     "metadata": {
      "needs_background": "light"
     },
     "output_type": "display_data"
    }
   ],
   "source": [
    "plt.figure(figsize = (8, 6))\n",
    "sns.countplot(data = df_mod, x = 'Genero')\n",
    "plt.title('Gender Distribution')\n",
    "plt.xlabel('Gender')\n",
    "plt.ylabel('Score')\n",
    "plt.show()"
   ]
  },
  {
   "cell_type": "code",
   "execution_count": 22,
   "id": "0348a474",
   "metadata": {},
   "outputs": [
    {
     "data": {
      "image/png": "[encoded data removed]",
      "text/plain": [
       "<Figure size 576x432 with 1 Axes>"
      ]
     },
     "metadata": {
      "needs_background": "light"
     },
     "output_type": "display_data"
    }
   ],
   "source": [
    "plt.figure(figsize = (8, 6))\n",
    "sns.countplot(data = df_mod, x = 'Escolaridade', order = ['Fundamental', 'Médio', 'Superior'])\n",
    "plt.title('Education Distribution')\n",
    "plt.xlabel('Education')\n",
    "plt.ylabel('Score')\n",
    "plt.show()"
   ]
  },
  {
   "cell_type": "code",
   "execution_count": 23,
   "id": "673629c8",
   "metadata": {},
   "outputs": [],
   "source": [
    "#analysis of quantitative variables"
   ]
  },
  {
   "cell_type": "code",
   "execution_count": 24,
   "id": "04ad7217",
   "metadata": {},
   "outputs": [],
   "source": [
    "correlation_matrix = df_mod[['Idade', 'Salario', 'Score_Exame_Psicotecnico']].corr()"
   ]
  },
  {
   "cell_type": "code",
   "execution_count": 25,
   "id": "30c52de8",
   "metadata": {},
   "outputs": [
    {
     "data": {
      "image/png": "[encoded data removed]",
      "text/plain": [
       "<Figure size 576x576 with 2 Axes>"
      ]
     },
     "metadata": {
      "needs_background": "light"
     },
     "output_type": "display_data"
    }
   ],
   "source": [
    "plt.figure(figsize = (8, 8))\n",
    "sns.heatmap(correlation_matrix, annot = True, cmap = 'coolwarm', vmin = -1, vmax = 1)\n",
    "plt.title('Correlation between quantitative variables')\n",
    "plt.show()"
   ]
  },
  {
   "cell_type": "code",
   "execution_count": 26,
   "id": "79712a0d",
   "metadata": {},
   "outputs": [],
   "source": [
    "#analysis of qualitative variables"
   ]
  },
  {
   "cell_type": "code",
   "execution_count": 27,
   "id": "29f89b6b",
   "metadata": {},
   "outputs": [],
   "source": [
    "table_contingency = pd.crosstab(df_mod['Genero'], df_mod['Escolaridade'])"
   ]
  },
  {
   "cell_type": "code",
   "execution_count": 28,
   "id": "ea5ffc77",
   "metadata": {},
   "outputs": [
    {
     "name": "stdout",
     "output_type": "stream",
     "text": [
      "Escolaridade  Fundamental  Médio  Superior\n",
      "Genero                                    \n",
      "Feminino               31     90        48\n",
      "Masculino              32     95        39\n",
      "Outro                  35     89        41\n"
     ]
    }
   ],
   "source": [
    "print(table_contingency)"
   ]
  },
  {
   "cell_type": "code",
   "execution_count": 29,
   "id": "9c0e37c4",
   "metadata": {},
   "outputs": [],
   "source": [
    "from scipy.stats import chi2_contingency"
   ]
  },
  {
   "cell_type": "code",
   "execution_count": 30,
   "id": "98eccf80",
   "metadata": {},
   "outputs": [],
   "source": [
    "chi2, p, _, _ = chi2_contingency(table_contingency)"
   ]
  },
  {
   "cell_type": "code",
   "execution_count": 31,
   "id": "90f12989",
   "metadata": {},
   "outputs": [
    {
     "name": "stdout",
     "output_type": "stream",
     "text": [
      "Test Value-p Chi-square: 0.8300\n"
     ]
    }
   ],
   "source": [
    "print(f'Test Value-p Chi-square: {p:.4f}')"
   ]
  },
  {
   "cell_type": "code",
   "execution_count": 32,
   "id": "eaf0d5c0",
   "metadata": {},
   "outputs": [
    {
     "name": "stdout",
     "output_type": "stream",
     "text": [
      "Cramér V coefficient: 0.0385\n"
     ]
    }
   ],
   "source": [
    "n = table_contingency.sum().sum()\n",
    "phi2 = chi2 / n\n",
    "r, k = table_contingency.shape\n",
    "cramers_v = np.sqrt(phi2 / min(r-1, k-1))\n",
    "print(f'Cramér V coefficient: {cramers_v:.4f}')"
   ]
  },
  {
   "cell_type": "code",
   "execution_count": 33,
   "id": "61ef51b9",
   "metadata": {},
   "outputs": [
    {
     "data": {
      "text/html": [
       "<div>\n",
       "<style scoped>\n",
       "    .dataframe tbody tr th:only-of-type {\n",
       "        vertical-align: middle;\n",
       "    }\n",
       "\n",
       "    .dataframe tbody tr th {\n",
       "        vertical-align: top;\n",
       "    }\n",
       "\n",
       "    .dataframe thead th {\n",
       "        text-align: right;\n",
       "    }\n",
       "</style>\n",
       "<table border=\"1\" class=\"dataframe\">\n",
       "  <thead>\n",
       "    <tr style=\"text-align: right;\">\n",
       "      <th></th>\n",
       "      <th>Idade</th>\n",
       "      <th>Salario</th>\n",
       "      <th>Genero</th>\n",
       "      <th>Escolaridade</th>\n",
       "      <th>Score_Exame_Psicotecnico</th>\n",
       "    </tr>\n",
       "  </thead>\n",
       "  <tbody>\n",
       "    <tr>\n",
       "      <th>0</th>\n",
       "      <td>58</td>\n",
       "      <td>30404.959339</td>\n",
       "      <td>Masculino</td>\n",
       "      <td>Médio</td>\n",
       "      <td>56.0</td>\n",
       "    </tr>\n",
       "    <tr>\n",
       "      <th>1</th>\n",
       "      <td>48</td>\n",
       "      <td>20886.502401</td>\n",
       "      <td>Feminino</td>\n",
       "      <td>Médio</td>\n",
       "      <td>NaN</td>\n",
       "    </tr>\n",
       "    <tr>\n",
       "      <th>2</th>\n",
       "      <td>34</td>\n",
       "      <td>15959.388748</td>\n",
       "      <td>Masculino</td>\n",
       "      <td>Médio</td>\n",
       "      <td>57.0</td>\n",
       "    </tr>\n",
       "    <tr>\n",
       "      <th>3</th>\n",
       "      <td>62</td>\n",
       "      <td>28534.995327</td>\n",
       "      <td>Outro</td>\n",
       "      <td>Superior</td>\n",
       "      <td>68.0</td>\n",
       "    </tr>\n",
       "    <tr>\n",
       "      <th>4</th>\n",
       "      <td>27</td>\n",
       "      <td>10553.176215</td>\n",
       "      <td>Outro</td>\n",
       "      <td>Fundamental</td>\n",
       "      <td>44.0</td>\n",
       "    </tr>\n",
       "  </tbody>\n",
       "</table>\n",
       "</div>"
      ],
      "text/plain": [
       "   Idade       Salario     Genero Escolaridade  Score_Exame_Psicotecnico\n",
       "0     58  30404.959339  Masculino        Médio                      56.0\n",
       "1     48  20886.502401   Feminino        Médio                       NaN\n",
       "2     34  15959.388748  Masculino        Médio                      57.0\n",
       "3     62  28534.995327      Outro     Superior                      68.0\n",
       "4     27  10553.176215      Outro  Fundamental                      44.0"
      ]
     },
     "execution_count": 33,
     "metadata": {},
     "output_type": "execute_result"
    }
   ],
   "source": [
    "df_mod.head()"
   ]
  },
  {
   "cell_type": "code",
   "execution_count": 34,
   "id": "57849711",
   "metadata": {},
   "outputs": [],
   "source": [
    "duplicate = df_mod.duplicated()"
   ]
  },
  {
   "cell_type": "code",
   "execution_count": 35,
   "id": "d33e0400",
   "metadata": {},
   "outputs": [
    {
     "data": {
      "text/html": [
       "<div>\n",
       "<style scoped>\n",
       "    .dataframe tbody tr th:only-of-type {\n",
       "        vertical-align: middle;\n",
       "    }\n",
       "\n",
       "    .dataframe tbody tr th {\n",
       "        vertical-align: top;\n",
       "    }\n",
       "\n",
       "    .dataframe thead th {\n",
       "        text-align: right;\n",
       "    }\n",
       "</style>\n",
       "<table border=\"1\" class=\"dataframe\">\n",
       "  <thead>\n",
       "    <tr style=\"text-align: right;\">\n",
       "      <th></th>\n",
       "      <th>Idade</th>\n",
       "      <th>Salario</th>\n",
       "      <th>Genero</th>\n",
       "      <th>Escolaridade</th>\n",
       "      <th>Score_Exame_Psicotecnico</th>\n",
       "    </tr>\n",
       "  </thead>\n",
       "  <tbody>\n",
       "  </tbody>\n",
       "</table>\n",
       "</div>"
      ],
      "text/plain": [
       "Empty DataFrame\n",
       "Columns: [Idade, Salario, Genero, Escolaridade, Score_Exame_Psicotecnico]\n",
       "Index: []"
      ]
     },
     "execution_count": 35,
     "metadata": {},
     "output_type": "execute_result"
    }
   ],
   "source": [
    "df_mod[duplicate]"
   ]
  },
  {
   "cell_type": "code",
   "execution_count": 36,
   "id": "64e5e634",
   "metadata": {},
   "outputs": [
    {
     "data": {
      "text/html": [
       "<div>\n",
       "<style scoped>\n",
       "    .dataframe tbody tr th:only-of-type {\n",
       "        vertical-align: middle;\n",
       "    }\n",
       "\n",
       "    .dataframe tbody tr th {\n",
       "        vertical-align: top;\n",
       "    }\n",
       "\n",
       "    .dataframe thead th {\n",
       "        text-align: right;\n",
       "    }\n",
       "</style>\n",
       "<table border=\"1\" class=\"dataframe\">\n",
       "  <thead>\n",
       "    <tr style=\"text-align: right;\">\n",
       "      <th></th>\n",
       "      <th>Idade</th>\n",
       "      <th>Salario</th>\n",
       "      <th>Genero</th>\n",
       "      <th>Escolaridade</th>\n",
       "      <th>Score_Exame_Psicotecnico</th>\n",
       "    </tr>\n",
       "  </thead>\n",
       "  <tbody>\n",
       "    <tr>\n",
       "      <th>94</th>\n",
       "      <td>20</td>\n",
       "      <td>-619.478622</td>\n",
       "      <td>Masculino</td>\n",
       "      <td>Médio</td>\n",
       "      <td>58.0</td>\n",
       "    </tr>\n",
       "    <tr>\n",
       "      <th>358</th>\n",
       "      <td>21</td>\n",
       "      <td>-2984.433215</td>\n",
       "      <td>Masculino</td>\n",
       "      <td>Médio</td>\n",
       "      <td>43.0</td>\n",
       "    </tr>\n",
       "    <tr>\n",
       "      <th>380</th>\n",
       "      <td>20</td>\n",
       "      <td>-3254.849042</td>\n",
       "      <td>Outro</td>\n",
       "      <td>Médio</td>\n",
       "      <td>50.0</td>\n",
       "    </tr>\n",
       "  </tbody>\n",
       "</table>\n",
       "</div>"
      ],
      "text/plain": [
       "     Idade      Salario     Genero Escolaridade  Score_Exame_Psicotecnico\n",
       "94      20  -619.478622  Masculino        Médio                      58.0\n",
       "358     21 -2984.433215  Masculino        Médio                      43.0\n",
       "380     20 -3254.849042      Outro        Médio                      50.0"
      ]
     },
     "execution_count": 36,
     "metadata": {},
     "output_type": "execute_result"
    }
   ],
   "source": [
    "df_mod[df_mod['Salario'] < 0]"
   ]
  },
  {
   "cell_type": "code",
   "execution_count": 37,
   "id": "621e0fc8",
   "metadata": {},
   "outputs": [],
   "source": [
    "df_mod['Salario'] = df_mod['Salario'].apply(lambda x: x if x >= 0 else None)"
   ]
  },
  {
   "cell_type": "code",
   "execution_count": 38,
   "id": "64666d31",
   "metadata": {},
   "outputs": [
    {
     "data": {
      "text/html": [
       "<div>\n",
       "<style scoped>\n",
       "    .dataframe tbody tr th:only-of-type {\n",
       "        vertical-align: middle;\n",
       "    }\n",
       "\n",
       "    .dataframe tbody tr th {\n",
       "        vertical-align: top;\n",
       "    }\n",
       "\n",
       "    .dataframe thead th {\n",
       "        text-align: right;\n",
       "    }\n",
       "</style>\n",
       "<table border=\"1\" class=\"dataframe\">\n",
       "  <thead>\n",
       "    <tr style=\"text-align: right;\">\n",
       "      <th></th>\n",
       "      <th>Idade</th>\n",
       "      <th>Salario</th>\n",
       "      <th>Genero</th>\n",
       "      <th>Escolaridade</th>\n",
       "      <th>Score_Exame_Psicotecnico</th>\n",
       "    </tr>\n",
       "  </thead>\n",
       "  <tbody>\n",
       "  </tbody>\n",
       "</table>\n",
       "</div>"
      ],
      "text/plain": [
       "Empty DataFrame\n",
       "Columns: [Idade, Salario, Genero, Escolaridade, Score_Exame_Psicotecnico]\n",
       "Index: []"
      ]
     },
     "execution_count": 38,
     "metadata": {},
     "output_type": "execute_result"
    }
   ],
   "source": [
    "df_mod[df_mod['Salario'] < 0]"
   ]
  },
  {
   "cell_type": "code",
   "execution_count": 39,
   "id": "b885677e",
   "metadata": {},
   "outputs": [
    {
     "data": {
      "image/png": "[encoded data removed]",
      "text/plain": [
       "<Figure size 720x432 with 1 Axes>"
      ]
     },
     "metadata": {
      "needs_background": "light"
     },
     "output_type": "display_data"
    }
   ],
   "source": [
    "msno.matrix(df_mod, figsize = (10, 6), sparkline = False)\n",
    "plt.show()"
   ]
  },
  {
   "cell_type": "code",
   "execution_count": 40,
   "id": "539eb3db",
   "metadata": {},
   "outputs": [],
   "source": [
    "value_null = df_mod.isna().sum()"
   ]
  },
  {
   "cell_type": "code",
   "execution_count": 41,
   "id": "2afca769",
   "metadata": {},
   "outputs": [
    {
     "name": "stdout",
     "output_type": "stream",
     "text": [
      "Idade                        0\n",
      "Salario                     53\n",
      "Genero                       0\n",
      "Escolaridade                 0\n",
      "Score_Exame_Psicotecnico    30\n",
      "dtype: int64\n"
     ]
    }
   ],
   "source": [
    "print(value_null)"
   ]
  },
  {
   "cell_type": "code",
   "execution_count": 42,
   "id": "40fb2a0a",
   "metadata": {},
   "outputs": [],
   "source": [
    "percentage_null = (df_mod.isna().mean() * 100).round(2)"
   ]
  },
  {
   "cell_type": "code",
   "execution_count": 43,
   "id": "4d674628",
   "metadata": {},
   "outputs": [
    {
     "name": "stdout",
     "output_type": "stream",
     "text": [
      "Idade                        0.0\n",
      "Salario                     10.6\n",
      "Genero                       0.0\n",
      "Escolaridade                 0.0\n",
      "Score_Exame_Psicotecnico     6.0\n",
      "dtype: float64\n"
     ]
    }
   ],
   "source": [
    "print(percentage_null)"
   ]
  },
  {
   "cell_type": "code",
   "execution_count": 44,
   "id": "a2b4537d",
   "metadata": {},
   "outputs": [
    {
     "name": "stdout",
     "output_type": "stream",
     "text": [
      "Test Statistics: nan\n",
      "Value-p: 1.0\n",
      "There is no evidence to reject the null hypothesis (the data appears to follow a normal distribution).\n"
     ]
    }
   ],
   "source": [
    "from scipy import stats\n",
    "\n",
    "salary = df_mod['Salario']\n",
    "stat, p_valor = stats.shapiro(salary)\n",
    "\n",
    "print(f'Test Statistics: {stat}')\n",
    "print(f'Value-p: {p_valor}')\n",
    "\n",
    "alfa = 0.05 #level of significance\n",
    "if p_valor > alfa:\n",
    "    print('There is no evidence to reject the null hypothesis (the data appears to follow a normal distribution).')\n",
    "else:\n",
    "    print('The null hypothesis is rejected (the data doesn´t follow a normal distribution).')\n",
    "\n"
   ]
  },
  {
   "cell_type": "code",
   "execution_count": 45,
   "id": "a6ad7fec",
   "metadata": {},
   "outputs": [],
   "source": [
    "salary_mean = df_mod['Salario'].mean()"
   ]
  },
  {
   "cell_type": "code",
   "execution_count": 46,
   "id": "bd5703e9",
   "metadata": {},
   "outputs": [],
   "source": [
    "df_mod['Salario'].fillna(salary_mean, inplace = True)"
   ]
  },
  {
   "cell_type": "code",
   "execution_count": 47,
   "id": "db70db69",
   "metadata": {},
   "outputs": [
    {
     "name": "stdout",
     "output_type": "stream",
     "text": [
      "Idade                        0\n",
      "Salario                      0\n",
      "Genero                       0\n",
      "Escolaridade                 0\n",
      "Score_Exame_Psicotecnico    30\n",
      "dtype: int64\n"
     ]
    }
   ],
   "source": [
    "value_null = df_mod.isna().sum()\n",
    "print(value_null)"
   ]
  },
  {
   "cell_type": "code",
   "execution_count": 48,
   "id": "ab3b90b3",
   "metadata": {},
   "outputs": [
    {
     "name": "stdout",
     "output_type": "stream",
     "text": [
      "Test Statistics: nan\n",
      "Value-p: 1.0\n",
      "There is no evidence to reject the null hypothesis (the data appears to follow a normal distribution).\n"
     ]
    }
   ],
   "source": [
    "from scipy import stats\n",
    "\n",
    "score_exame = df_mod['Score_Exame_Psicotecnico']\n",
    "stat, p_valor = stats.shapiro(score_exame)\n",
    "\n",
    "print(f'Test Statistics: {stat}')\n",
    "print(f'Value-p: {p_valor}')\n",
    "\n",
    "alfa = 0.05 #level of significance\n",
    "if p_valor > alfa:\n",
    "    print('There is no evidence to reject the null hypothesis (the data appears to follow a normal distribution).')\n",
    "else:\n",
    "    print('The null hypothesis is rejected (the data doesn´t follow a normal distribution).')\n"
   ]
  },
  {
   "cell_type": "code",
   "execution_count": 49,
   "id": "5878dbc2",
   "metadata": {},
   "outputs": [],
   "source": [
    "exame_mean = df_mod['Score_Exame_Psicotecnico'].mean()"
   ]
  },
  {
   "cell_type": "code",
   "execution_count": 50,
   "id": "66624839",
   "metadata": {},
   "outputs": [],
   "source": [
    "df_mod['Score_Exame_Psicotecnico'].fillna(exame_mean, inplace = True)"
   ]
  },
  {
   "cell_type": "code",
   "execution_count": 51,
   "id": "77c35e67",
   "metadata": {},
   "outputs": [
    {
     "name": "stdout",
     "output_type": "stream",
     "text": [
      "Idade                       0\n",
      "Salario                     0\n",
      "Genero                      0\n",
      "Escolaridade                0\n",
      "Score_Exame_Psicotecnico    0\n",
      "dtype: int64\n"
     ]
    }
   ],
   "source": [
    "value_null = df_mod.isna().sum()\n",
    "print(value_null)"
   ]
  },
  {
   "cell_type": "code",
   "execution_count": 52,
   "id": "7962d9bc",
   "metadata": {},
   "outputs": [
    {
     "data": {
      "text/html": [
       "<div>\n",
       "<style scoped>\n",
       "    .dataframe tbody tr th:only-of-type {\n",
       "        vertical-align: middle;\n",
       "    }\n",
       "\n",
       "    .dataframe tbody tr th {\n",
       "        vertical-align: top;\n",
       "    }\n",
       "\n",
       "    .dataframe thead th {\n",
       "        text-align: right;\n",
       "    }\n",
       "</style>\n",
       "<table border=\"1\" class=\"dataframe\">\n",
       "  <thead>\n",
       "    <tr style=\"text-align: right;\">\n",
       "      <th></th>\n",
       "      <th>Idade</th>\n",
       "      <th>Salario</th>\n",
       "      <th>Genero</th>\n",
       "      <th>Escolaridade</th>\n",
       "      <th>Score_Exame_Psicotecnico</th>\n",
       "    </tr>\n",
       "  </thead>\n",
       "  <tbody>\n",
       "    <tr>\n",
       "      <th>0</th>\n",
       "      <td>58</td>\n",
       "      <td>30404.959339</td>\n",
       "      <td>Masculino</td>\n",
       "      <td>Médio</td>\n",
       "      <td>56.000000</td>\n",
       "    </tr>\n",
       "    <tr>\n",
       "      <th>1</th>\n",
       "      <td>48</td>\n",
       "      <td>20886.502401</td>\n",
       "      <td>Feminino</td>\n",
       "      <td>Médio</td>\n",
       "      <td>61.565957</td>\n",
       "    </tr>\n",
       "    <tr>\n",
       "      <th>2</th>\n",
       "      <td>34</td>\n",
       "      <td>15959.388748</td>\n",
       "      <td>Masculino</td>\n",
       "      <td>Médio</td>\n",
       "      <td>57.000000</td>\n",
       "    </tr>\n",
       "    <tr>\n",
       "      <th>3</th>\n",
       "      <td>62</td>\n",
       "      <td>28534.995327</td>\n",
       "      <td>Outro</td>\n",
       "      <td>Superior</td>\n",
       "      <td>68.000000</td>\n",
       "    </tr>\n",
       "    <tr>\n",
       "      <th>4</th>\n",
       "      <td>27</td>\n",
       "      <td>10553.176215</td>\n",
       "      <td>Outro</td>\n",
       "      <td>Fundamental</td>\n",
       "      <td>44.000000</td>\n",
       "    </tr>\n",
       "  </tbody>\n",
       "</table>\n",
       "</div>"
      ],
      "text/plain": [
       "   Idade       Salario     Genero Escolaridade  Score_Exame_Psicotecnico\n",
       "0     58  30404.959339  Masculino        Médio                 56.000000\n",
       "1     48  20886.502401   Feminino        Médio                 61.565957\n",
       "2     34  15959.388748  Masculino        Médio                 57.000000\n",
       "3     62  28534.995327      Outro     Superior                 68.000000\n",
       "4     27  10553.176215      Outro  Fundamental                 44.000000"
      ]
     },
     "execution_count": 52,
     "metadata": {},
     "output_type": "execute_result"
    }
   ],
   "source": [
    "df_mod.head()"
   ]
  },
  {
   "cell_type": "code",
   "execution_count": 53,
   "id": "89d38f3e",
   "metadata": {},
   "outputs": [],
   "source": [
    "age_group = [0, 23, 35, 45, 55, float('inf')]"
   ]
  },
  {
   "cell_type": "code",
   "execution_count": 54,
   "id": "69d857e1",
   "metadata": {},
   "outputs": [],
   "source": [
    "name_group = ['Menos de 25', '25-34', '35-44', '45-54', '55 ou mais']"
   ]
  },
  {
   "cell_type": "code",
   "execution_count": 56,
   "id": "d910b9ea",
   "metadata": {},
   "outputs": [],
   "source": [
    "df_mod['age_group'] = pd.cut(df_mod['Idade'], bins = age_group, labels = name_group)"
   ]
  },
  {
   "cell_type": "code",
   "execution_count": 57,
   "id": "8c87adbd",
   "metadata": {},
   "outputs": [
    {
     "data": {
      "text/html": [
       "<div>\n",
       "<style scoped>\n",
       "    .dataframe tbody tr th:only-of-type {\n",
       "        vertical-align: middle;\n",
       "    }\n",
       "\n",
       "    .dataframe tbody tr th {\n",
       "        vertical-align: top;\n",
       "    }\n",
       "\n",
       "    .dataframe thead th {\n",
       "        text-align: right;\n",
       "    }\n",
       "</style>\n",
       "<table border=\"1\" class=\"dataframe\">\n",
       "  <thead>\n",
       "    <tr style=\"text-align: right;\">\n",
       "      <th></th>\n",
       "      <th>Idade</th>\n",
       "      <th>Salario</th>\n",
       "      <th>Genero</th>\n",
       "      <th>Escolaridade</th>\n",
       "      <th>Score_Exame_Psicotecnico</th>\n",
       "      <th>age_group</th>\n",
       "    </tr>\n",
       "  </thead>\n",
       "  <tbody>\n",
       "    <tr>\n",
       "      <th>0</th>\n",
       "      <td>58</td>\n",
       "      <td>30404.959339</td>\n",
       "      <td>Masculino</td>\n",
       "      <td>Médio</td>\n",
       "      <td>56.000000</td>\n",
       "      <td>55 ou mais</td>\n",
       "    </tr>\n",
       "    <tr>\n",
       "      <th>1</th>\n",
       "      <td>48</td>\n",
       "      <td>20886.502401</td>\n",
       "      <td>Feminino</td>\n",
       "      <td>Médio</td>\n",
       "      <td>61.565957</td>\n",
       "      <td>45-54</td>\n",
       "    </tr>\n",
       "    <tr>\n",
       "      <th>2</th>\n",
       "      <td>34</td>\n",
       "      <td>15959.388748</td>\n",
       "      <td>Masculino</td>\n",
       "      <td>Médio</td>\n",
       "      <td>57.000000</td>\n",
       "      <td>25-34</td>\n",
       "    </tr>\n",
       "    <tr>\n",
       "      <th>3</th>\n",
       "      <td>62</td>\n",
       "      <td>28534.995327</td>\n",
       "      <td>Outro</td>\n",
       "      <td>Superior</td>\n",
       "      <td>68.000000</td>\n",
       "      <td>55 ou mais</td>\n",
       "    </tr>\n",
       "    <tr>\n",
       "      <th>4</th>\n",
       "      <td>27</td>\n",
       "      <td>10553.176215</td>\n",
       "      <td>Outro</td>\n",
       "      <td>Fundamental</td>\n",
       "      <td>44.000000</td>\n",
       "      <td>25-34</td>\n",
       "    </tr>\n",
       "  </tbody>\n",
       "</table>\n",
       "</div>"
      ],
      "text/plain": [
       "   Idade       Salario     Genero Escolaridade  Score_Exame_Psicotecnico  \\\n",
       "0     58  30404.959339  Masculino        Médio                 56.000000   \n",
       "1     48  20886.502401   Feminino        Médio                 61.565957   \n",
       "2     34  15959.388748  Masculino        Médio                 57.000000   \n",
       "3     62  28534.995327      Outro     Superior                 68.000000   \n",
       "4     27  10553.176215      Outro  Fundamental                 44.000000   \n",
       "\n",
       "    age_group  \n",
       "0  55 ou mais  \n",
       "1       45-54  \n",
       "2       25-34  \n",
       "3  55 ou mais  \n",
       "4       25-34  "
      ]
     },
     "execution_count": 57,
     "metadata": {},
     "output_type": "execute_result"
    }
   ],
   "source": [
    "df_mod.head()"
   ]
  },
  {
   "cell_type": "code",
   "execution_count": 58,
   "id": "933c3896",
   "metadata": {},
   "outputs": [
    {
     "name": "stdout",
     "output_type": "stream",
     "text": [
      "<class 'pandas.core.frame.DataFrame'>\n",
      "RangeIndex: 500 entries, 0 to 499\n",
      "Data columns (total 6 columns):\n",
      " #   Column                    Non-Null Count  Dtype   \n",
      "---  ------                    --------------  -----   \n",
      " 0   Idade                     500 non-null    int64   \n",
      " 1   Salario                   500 non-null    float64 \n",
      " 2   Genero                    500 non-null    object  \n",
      " 3   Escolaridade              500 non-null    object  \n",
      " 4   Score_Exame_Psicotecnico  500 non-null    float64 \n",
      " 5   age_group                 500 non-null    category\n",
      "dtypes: category(1), float64(2), int64(1), object(2)\n",
      "memory usage: 20.4+ KB\n"
     ]
    }
   ],
   "source": [
    "df_mod.info()"
   ]
  },
  {
   "cell_type": "code",
   "execution_count": 59,
   "id": "9cc8db1a",
   "metadata": {},
   "outputs": [],
   "source": [
    "df_mod.drop('Idade', axis = 1, inplace = True)"
   ]
  },
  {
   "cell_type": "code",
   "execution_count": 60,
   "id": "3bb809c4",
   "metadata": {},
   "outputs": [
    {
     "data": {
      "text/html": [
       "<div>\n",
       "<style scoped>\n",
       "    .dataframe tbody tr th:only-of-type {\n",
       "        vertical-align: middle;\n",
       "    }\n",
       "\n",
       "    .dataframe tbody tr th {\n",
       "        vertical-align: top;\n",
       "    }\n",
       "\n",
       "    .dataframe thead th {\n",
       "        text-align: right;\n",
       "    }\n",
       "</style>\n",
       "<table border=\"1\" class=\"dataframe\">\n",
       "  <thead>\n",
       "    <tr style=\"text-align: right;\">\n",
       "      <th></th>\n",
       "      <th>Salario</th>\n",
       "      <th>Genero</th>\n",
       "      <th>Escolaridade</th>\n",
       "      <th>Score_Exame_Psicotecnico</th>\n",
       "      <th>age_group</th>\n",
       "    </tr>\n",
       "  </thead>\n",
       "  <tbody>\n",
       "    <tr>\n",
       "      <th>0</th>\n",
       "      <td>30404.959339</td>\n",
       "      <td>Masculino</td>\n",
       "      <td>Médio</td>\n",
       "      <td>56.000000</td>\n",
       "      <td>55 ou mais</td>\n",
       "    </tr>\n",
       "    <tr>\n",
       "      <th>1</th>\n",
       "      <td>20886.502401</td>\n",
       "      <td>Feminino</td>\n",
       "      <td>Médio</td>\n",
       "      <td>61.565957</td>\n",
       "      <td>45-54</td>\n",
       "    </tr>\n",
       "    <tr>\n",
       "      <th>2</th>\n",
       "      <td>15959.388748</td>\n",
       "      <td>Masculino</td>\n",
       "      <td>Médio</td>\n",
       "      <td>57.000000</td>\n",
       "      <td>25-34</td>\n",
       "    </tr>\n",
       "    <tr>\n",
       "      <th>3</th>\n",
       "      <td>28534.995327</td>\n",
       "      <td>Outro</td>\n",
       "      <td>Superior</td>\n",
       "      <td>68.000000</td>\n",
       "      <td>55 ou mais</td>\n",
       "    </tr>\n",
       "    <tr>\n",
       "      <th>4</th>\n",
       "      <td>10553.176215</td>\n",
       "      <td>Outro</td>\n",
       "      <td>Fundamental</td>\n",
       "      <td>44.000000</td>\n",
       "      <td>25-34</td>\n",
       "    </tr>\n",
       "  </tbody>\n",
       "</table>\n",
       "</div>"
      ],
      "text/plain": [
       "        Salario     Genero Escolaridade  Score_Exame_Psicotecnico   age_group\n",
       "0  30404.959339  Masculino        Médio                 56.000000  55 ou mais\n",
       "1  20886.502401   Feminino        Médio                 61.565957       45-54\n",
       "2  15959.388748  Masculino        Médio                 57.000000       25-34\n",
       "3  28534.995327      Outro     Superior                 68.000000  55 ou mais\n",
       "4  10553.176215      Outro  Fundamental                 44.000000       25-34"
      ]
     },
     "execution_count": 60,
     "metadata": {},
     "output_type": "execute_result"
    }
   ],
   "source": [
    "df_mod.head()"
   ]
  },
  {
   "cell_type": "code",
   "execution_count": 62,
   "id": "be55ffbe",
   "metadata": {},
   "outputs": [],
   "source": [
    "df_mod['Salario'] = df_mod['Salario'].round().astype(int)\n",
    "df_mod['Score_Exame_Psicotecnico'] = df_mod['Score_Exame_Psicotecnico'].round().astype(int)"
   ]
  },
  {
   "cell_type": "code",
   "execution_count": 63,
   "id": "1636f02d",
   "metadata": {},
   "outputs": [
    {
     "data": {
      "text/html": [
       "<div>\n",
       "<style scoped>\n",
       "    .dataframe tbody tr th:only-of-type {\n",
       "        vertical-align: middle;\n",
       "    }\n",
       "\n",
       "    .dataframe tbody tr th {\n",
       "        vertical-align: top;\n",
       "    }\n",
       "\n",
       "    .dataframe thead th {\n",
       "        text-align: right;\n",
       "    }\n",
       "</style>\n",
       "<table border=\"1\" class=\"dataframe\">\n",
       "  <thead>\n",
       "    <tr style=\"text-align: right;\">\n",
       "      <th></th>\n",
       "      <th>Salario</th>\n",
       "      <th>Genero</th>\n",
       "      <th>Escolaridade</th>\n",
       "      <th>Score_Exame_Psicotecnico</th>\n",
       "      <th>age_group</th>\n",
       "    </tr>\n",
       "  </thead>\n",
       "  <tbody>\n",
       "    <tr>\n",
       "      <th>0</th>\n",
       "      <td>30405</td>\n",
       "      <td>Masculino</td>\n",
       "      <td>Médio</td>\n",
       "      <td>56</td>\n",
       "      <td>55 ou mais</td>\n",
       "    </tr>\n",
       "    <tr>\n",
       "      <th>1</th>\n",
       "      <td>20887</td>\n",
       "      <td>Feminino</td>\n",
       "      <td>Médio</td>\n",
       "      <td>62</td>\n",
       "      <td>45-54</td>\n",
       "    </tr>\n",
       "    <tr>\n",
       "      <th>2</th>\n",
       "      <td>15959</td>\n",
       "      <td>Masculino</td>\n",
       "      <td>Médio</td>\n",
       "      <td>57</td>\n",
       "      <td>25-34</td>\n",
       "    </tr>\n",
       "    <tr>\n",
       "      <th>3</th>\n",
       "      <td>28535</td>\n",
       "      <td>Outro</td>\n",
       "      <td>Superior</td>\n",
       "      <td>68</td>\n",
       "      <td>55 ou mais</td>\n",
       "    </tr>\n",
       "    <tr>\n",
       "      <th>4</th>\n",
       "      <td>10553</td>\n",
       "      <td>Outro</td>\n",
       "      <td>Fundamental</td>\n",
       "      <td>44</td>\n",
       "      <td>25-34</td>\n",
       "    </tr>\n",
       "  </tbody>\n",
       "</table>\n",
       "</div>"
      ],
      "text/plain": [
       "   Salario     Genero Escolaridade  Score_Exame_Psicotecnico   age_group\n",
       "0    30405  Masculino        Médio                        56  55 ou mais\n",
       "1    20887   Feminino        Médio                        62       45-54\n",
       "2    15959  Masculino        Médio                        57       25-34\n",
       "3    28535      Outro     Superior                        68  55 ou mais\n",
       "4    10553      Outro  Fundamental                        44       25-34"
      ]
     },
     "execution_count": 63,
     "metadata": {},
     "output_type": "execute_result"
    }
   ],
   "source": [
    "df_mod.head()"
   ]
  },
  {
   "cell_type": "code",
   "execution_count": 64,
   "id": "a4dd5941",
   "metadata": {},
   "outputs": [
    {
     "data": {
      "text/html": [
       "<div>\n",
       "<style scoped>\n",
       "    .dataframe tbody tr th:only-of-type {\n",
       "        vertical-align: middle;\n",
       "    }\n",
       "\n",
       "    .dataframe tbody tr th {\n",
       "        vertical-align: top;\n",
       "    }\n",
       "\n",
       "    .dataframe thead th {\n",
       "        text-align: right;\n",
       "    }\n",
       "</style>\n",
       "<table border=\"1\" class=\"dataframe\">\n",
       "  <thead>\n",
       "    <tr style=\"text-align: right;\">\n",
       "      <th></th>\n",
       "      <th>Salario</th>\n",
       "      <th>Score_Exame_Psicotecnico</th>\n",
       "    </tr>\n",
       "  </thead>\n",
       "  <tbody>\n",
       "    <tr>\n",
       "      <th>count</th>\n",
       "      <td>500.00000</td>\n",
       "      <td>500.000000</td>\n",
       "    </tr>\n",
       "    <tr>\n",
       "      <th>mean</th>\n",
       "      <td>21410.79200</td>\n",
       "      <td>61.592000</td>\n",
       "    </tr>\n",
       "    <tr>\n",
       "      <th>std</th>\n",
       "      <td>7679.06567</td>\n",
       "      <td>17.123667</td>\n",
       "    </tr>\n",
       "    <tr>\n",
       "      <th>min</th>\n",
       "      <td>642.00000</td>\n",
       "      <td>20.000000</td>\n",
       "    </tr>\n",
       "    <tr>\n",
       "      <th>25%</th>\n",
       "      <td>15888.75000</td>\n",
       "      <td>49.000000</td>\n",
       "    </tr>\n",
       "    <tr>\n",
       "      <th>50%</th>\n",
       "      <td>21411.00000</td>\n",
       "      <td>62.000000</td>\n",
       "    </tr>\n",
       "    <tr>\n",
       "      <th>75%</th>\n",
       "      <td>26729.00000</td>\n",
       "      <td>73.250000</td>\n",
       "    </tr>\n",
       "    <tr>\n",
       "      <th>max</th>\n",
       "      <td>40845.00000</td>\n",
       "      <td>100.000000</td>\n",
       "    </tr>\n",
       "  </tbody>\n",
       "</table>\n",
       "</div>"
      ],
      "text/plain": [
       "           Salario  Score_Exame_Psicotecnico\n",
       "count    500.00000                500.000000\n",
       "mean   21410.79200                 61.592000\n",
       "std     7679.06567                 17.123667\n",
       "min      642.00000                 20.000000\n",
       "25%    15888.75000                 49.000000\n",
       "50%    21411.00000                 62.000000\n",
       "75%    26729.00000                 73.250000\n",
       "max    40845.00000                100.000000"
      ]
     },
     "execution_count": 64,
     "metadata": {},
     "output_type": "execute_result"
    }
   ],
   "source": [
    "df_mod.describe()"
   ]
  },
  {
   "cell_type": "code",
   "execution_count": 66,
   "id": "a99aca2f",
   "metadata": {},
   "outputs": [],
   "source": [
    "average_salary_by_age_group = df_mod.groupby('age_group')['Salario'].mean()"
   ]
  },
  {
   "cell_type": "code",
   "execution_count": 67,
   "id": "4b3ea848",
   "metadata": {},
   "outputs": [
    {
     "data": {
      "text/plain": [
       "age_group\n",
       "Menos de 25    12981.588235\n",
       "25-34          14675.080357\n",
       "35-44          20980.654545\n",
       "45-54          24736.491935\n",
       "55 ou mais     29364.359223\n",
       "Name: Salario, dtype: float64"
      ]
     },
     "execution_count": 67,
     "metadata": {},
     "output_type": "execute_result"
    }
   ],
   "source": [
    "average_salary_by_age_group.head()"
   ]
  },
  {
   "cell_type": "code",
   "execution_count": 68,
   "id": "b0a70ca4",
   "metadata": {},
   "outputs": [
    {
     "data": {
      "text/plain": [
       "age_group\n",
       "Menos de 25    12981.588235\n",
       "25-34          14675.080357\n",
       "35-44          20980.654545\n",
       "45-54          24736.491935\n",
       "55 ou mais     29364.359223\n",
       "Name: Salario, dtype: float64"
      ]
     },
     "execution_count": 68,
     "metadata": {},
     "output_type": "execute_result"
    }
   ],
   "source": [
    "median_salary_by_age_group = df_mod.groupby('age_group')['Salario'].mean()\n",
    "median_salary_by_age_group.head()"
   ]
  },
  {
   "cell_type": "code",
   "execution_count": 69,
   "id": "ce9f4c6d",
   "metadata": {},
   "outputs": [
    {
     "data": {
      "image/png": "[encoded data removed]",
      "text/plain": [
       "<Figure size 432x288 with 1 Axes>"
      ]
     },
     "metadata": {
      "needs_background": "light"
     },
     "output_type": "display_data"
    }
   ],
   "source": [
    "sns.boxplot(x = 'age_group', y = 'Salario', data = df_mod)\n",
    "plt.xticks(rotation = 45)\n",
    "plt.show()"
   ]
  },
  {
   "cell_type": "code",
   "execution_count": 70,
   "id": "0ea1120b",
   "metadata": {},
   "outputs": [
    {
     "name": "stdout",
     "output_type": "stream",
     "text": [
      "There is evidence of significant differences in average salaries between age groups.\n"
     ]
    }
   ],
   "source": [
    "import scipy.stats as stats\n",
    "\n",
    "results_news = stats.f_oneway(*[group['Salario'] for name, group in df_mod.groupby('age_group')])\n",
    "\n",
    "if results_news.pvalue < 0.05:\n",
    "    print(\"There is evidence of significant differences in average salaries between age groups.\")\n",
    "else:\n",
    "    print(\"There is no evidence of significant differences in average salaries between age groups.\")"
   ]
  }
 ],
 "metadata": {
  "kernelspec": {
   "display_name": "Python 3 (ipykernel)",
   "language": "python",
   "name": "python3"
  },
  "language_info": {
   "codemirror_mode": {
    "name": "ipython",
    "version": 3
   },
   "file_extension": ".py",
   "mimetype": "text/x-python",
   "name": "python",
   "nbconvert_exporter": "python",
   "pygments_lexer": "ipython3",
   "version": "3.9.12"
  }
 },
 "nbformat": 4,
 "nbformat_minor": 5
}
